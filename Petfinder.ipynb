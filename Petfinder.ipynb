{
 "cells": [
  {
   "cell_type": "markdown",
   "metadata": {},
   "source": [
    "# 1.EDA"
   ]
  },
  {
   "cell_type": "code",
   "execution_count": 1,
   "metadata": {
    "_uuid": "d27d868a9cc629dced83486854a9f005c36af2e1"
   },
   "outputs": [],
   "source": [
    "import pandas as pd\n",
    "import numpy as np\n",
    "\n",
    "import os\n",
    "import math\n",
    "\n",
    "import seaborn as sns\n",
    "import matplotlib.pyplot as plt"
   ]
  },
  {
   "cell_type": "code",
   "execution_count": 2,
   "metadata": {
    "_uuid": "2bf541c7aa382015b2573af7e0c76e15124a7fcb"
   },
   "outputs": [],
   "source": [
    "pd.set_option('display.max_columns', 50)"
   ]
  },
  {
   "cell_type": "markdown",
   "metadata": {
    "_uuid": "0820c19c13fa48d4aaf73eb4ea363da457a44bd0"
   },
   "source": [
    "# Data Fields\n",
    "**PetID** - Unique hash ID of pet profile   \n",
    "\n",
    "**AdoptionSpeed** - Categorical speed of adoption. Lower is faster. This is the value to predict. See below section for more info.\n",
    "\n",
    "**Type** - Type of animal  *(1 = Dog, 2 = Cat)\n",
    "\n",
    "**Name** - Name of pet  *(Empty if not named)\n",
    "\n",
    "**Age** - Age of pet when listed, in months\n",
    "\n",
    "**Breed1** - Primary breed of pet  *(Refer to BreedLabels dictionary)\n",
    "\n",
    "**Breed2** - Secondary breed of pet, if pet is of mixed breed  *(Refer to BreedLabels dictionary)*\n",
    "\n",
    "**Gender** - Gender of pet  *(1 = Male, 2 = Female, 3 = Mixed, if profile represents group of pets)\n",
    "\n",
    "**Color1** - Color 1 of pet  *(Refer to ColorLabels dictionary)\n",
    "\n",
    "**Color2** - Color 2 of pet  *(Refer to ColorLabels dictionary)\n",
    "\n",
    "**Color3** - Color 3 of pet  *(Refer to ColorLabels dictionary)\n",
    "\n",
    "**MaturitySize** - Size at maturity  *(1 = Small, 2 = Medium, 3 = Large, 4 = Extra Large, 0 = Not Specified)\n",
    "\n",
    "**FurLength** - Fur length  *(1 = Short, 2 = Medium, 3 = Long, 0 = Not Specified)\n",
    "\n",
    "**Vaccinated** - Pet has been vaccinated  *(1 = Yes, 2 = No, 3 = Not Sure)\n",
    "\n",
    "**Dewormed** - Pet has been dewormed  *(1 = Yes, 2 = No, 3 = Not Sure)\n",
    "\n",
    "**Sterilized** - Pet has been spayed / neutered   *(1 = Yes, 2 = No, 3 = Not Sure)\n",
    "\n",
    "**Health** - Health Condition  *(1 = Healthy, 2 = Minor Injury, 3 = Serious Injury, 0 = Not Specified)\n",
    "\n",
    "**Quantity** - Number of pets represented in profile\n",
    "\n",
    "**Fee** - Adoption fee  *(0 = Free)\n",
    "\n",
    "**State** - State location in Malaysia  *(Refer to StateLabels dictionary)\n",
    "\n",
    "**RescuerID** - Unique hash ID of rescuer\n",
    "\n",
    "**VideoAmt** - Total uploaded videos for this pet\n",
    "\n",
    "**PhotoAmt** - Total uploaded photos for this pet\n",
    "\n",
    "**Description** - Profile write-up for this pet. The primary language used is English, with some in Malay or Chinese.\n",
    "\n",
    "#### AdoptionSpeed\n",
    "Contestants are required to predict this value. The value is determined by how quickly, if at all, a pet is adopted. The values are determined in the following way:    \n",
    "\n",
    "0 - Pet was adopted on the same day as it was listed.   \n",
    "\n",
    "1 - Pet was adopted between 1 and 7 days (1st week) after being listed.   \n",
    "\n",
    "2 - Pet was adopted between 8 and 30 days (1st month) after being listed. \n",
    "\n",
    "3 - Pet was adopted between 31 and 90 days (2nd - 3rd month) after being listed.    \n",
    "\n",
    "4 - No adoption after 100 days of being listed. (There are no pets in this dataset that waited between 90 and 100 days)."
   ]
  },
  {
   "cell_type": "code",
   "execution_count": 3,
   "metadata": {
    "_uuid": "9947ddab1f498780c56b4ce460c87b2a10d0d606"
   },
   "outputs": [
    {
     "ename": "FileNotFoundError",
     "evalue": "[Errno 2] File b'petfinder-adoption-prediction/train/train.csv' does not exist: b'petfinder-adoption-prediction/train/train.csv'",
     "output_type": "error",
     "traceback": [
      "\u001b[0;31m---------------------------------------------------------------------------\u001b[0m",
      "\u001b[0;31mFileNotFoundError\u001b[0m                         Traceback (most recent call last)",
      "\u001b[0;32m<ipython-input-3-a603b8674409>\u001b[0m in \u001b[0;36m<module>\u001b[0;34m\u001b[0m\n\u001b[0;32m----> 1\u001b[0;31m \u001b[0mdf_orig\u001b[0m \u001b[0;34m=\u001b[0m \u001b[0mpd\u001b[0m\u001b[0;34m.\u001b[0m\u001b[0mread_csv\u001b[0m\u001b[0;34m(\u001b[0m\u001b[0;34mr'petfinder-adoption-prediction/train/train.csv'\u001b[0m\u001b[0;34m,\u001b[0m \u001b[0mindex_col\u001b[0m \u001b[0;34m=\u001b[0m \u001b[0;34m\"PetID\"\u001b[0m\u001b[0;34m)\u001b[0m\u001b[0;34m\u001b[0m\u001b[0;34m\u001b[0m\u001b[0m\n\u001b[0m",
      "\u001b[0;32m~/Development/env/lib/python3.7/site-packages/pandas/io/parsers.py\u001b[0m in \u001b[0;36mparser_f\u001b[0;34m(filepath_or_buffer, sep, delimiter, header, names, index_col, usecols, squeeze, prefix, mangle_dupe_cols, dtype, engine, converters, true_values, false_values, skipinitialspace, skiprows, skipfooter, nrows, na_values, keep_default_na, na_filter, verbose, skip_blank_lines, parse_dates, infer_datetime_format, keep_date_col, date_parser, dayfirst, cache_dates, iterator, chunksize, compression, thousands, decimal, lineterminator, quotechar, quoting, doublequote, escapechar, comment, encoding, dialect, error_bad_lines, warn_bad_lines, delim_whitespace, low_memory, memory_map, float_precision)\u001b[0m\n\u001b[1;32m    683\u001b[0m         )\n\u001b[1;32m    684\u001b[0m \u001b[0;34m\u001b[0m\u001b[0m\n\u001b[0;32m--> 685\u001b[0;31m         \u001b[0;32mreturn\u001b[0m \u001b[0m_read\u001b[0m\u001b[0;34m(\u001b[0m\u001b[0mfilepath_or_buffer\u001b[0m\u001b[0;34m,\u001b[0m \u001b[0mkwds\u001b[0m\u001b[0;34m)\u001b[0m\u001b[0;34m\u001b[0m\u001b[0;34m\u001b[0m\u001b[0m\n\u001b[0m\u001b[1;32m    686\u001b[0m \u001b[0;34m\u001b[0m\u001b[0m\n\u001b[1;32m    687\u001b[0m     \u001b[0mparser_f\u001b[0m\u001b[0;34m.\u001b[0m\u001b[0m__name__\u001b[0m \u001b[0;34m=\u001b[0m \u001b[0mname\u001b[0m\u001b[0;34m\u001b[0m\u001b[0;34m\u001b[0m\u001b[0m\n",
      "\u001b[0;32m~/Development/env/lib/python3.7/site-packages/pandas/io/parsers.py\u001b[0m in \u001b[0;36m_read\u001b[0;34m(filepath_or_buffer, kwds)\u001b[0m\n\u001b[1;32m    455\u001b[0m \u001b[0;34m\u001b[0m\u001b[0m\n\u001b[1;32m    456\u001b[0m     \u001b[0;31m# Create the parser.\u001b[0m\u001b[0;34m\u001b[0m\u001b[0;34m\u001b[0m\u001b[0;34m\u001b[0m\u001b[0m\n\u001b[0;32m--> 457\u001b[0;31m     \u001b[0mparser\u001b[0m \u001b[0;34m=\u001b[0m \u001b[0mTextFileReader\u001b[0m\u001b[0;34m(\u001b[0m\u001b[0mfp_or_buf\u001b[0m\u001b[0;34m,\u001b[0m \u001b[0;34m**\u001b[0m\u001b[0mkwds\u001b[0m\u001b[0;34m)\u001b[0m\u001b[0;34m\u001b[0m\u001b[0;34m\u001b[0m\u001b[0m\n\u001b[0m\u001b[1;32m    458\u001b[0m \u001b[0;34m\u001b[0m\u001b[0m\n\u001b[1;32m    459\u001b[0m     \u001b[0;32mif\u001b[0m \u001b[0mchunksize\u001b[0m \u001b[0;32mor\u001b[0m \u001b[0miterator\u001b[0m\u001b[0;34m:\u001b[0m\u001b[0;34m\u001b[0m\u001b[0;34m\u001b[0m\u001b[0m\n",
      "\u001b[0;32m~/Development/env/lib/python3.7/site-packages/pandas/io/parsers.py\u001b[0m in \u001b[0;36m__init__\u001b[0;34m(self, f, engine, **kwds)\u001b[0m\n\u001b[1;32m    893\u001b[0m             \u001b[0mself\u001b[0m\u001b[0;34m.\u001b[0m\u001b[0moptions\u001b[0m\u001b[0;34m[\u001b[0m\u001b[0;34m\"has_index_names\"\u001b[0m\u001b[0;34m]\u001b[0m \u001b[0;34m=\u001b[0m \u001b[0mkwds\u001b[0m\u001b[0;34m[\u001b[0m\u001b[0;34m\"has_index_names\"\u001b[0m\u001b[0;34m]\u001b[0m\u001b[0;34m\u001b[0m\u001b[0;34m\u001b[0m\u001b[0m\n\u001b[1;32m    894\u001b[0m \u001b[0;34m\u001b[0m\u001b[0m\n\u001b[0;32m--> 895\u001b[0;31m         \u001b[0mself\u001b[0m\u001b[0;34m.\u001b[0m\u001b[0m_make_engine\u001b[0m\u001b[0;34m(\u001b[0m\u001b[0mself\u001b[0m\u001b[0;34m.\u001b[0m\u001b[0mengine\u001b[0m\u001b[0;34m)\u001b[0m\u001b[0;34m\u001b[0m\u001b[0;34m\u001b[0m\u001b[0m\n\u001b[0m\u001b[1;32m    896\u001b[0m \u001b[0;34m\u001b[0m\u001b[0m\n\u001b[1;32m    897\u001b[0m     \u001b[0;32mdef\u001b[0m \u001b[0mclose\u001b[0m\u001b[0;34m(\u001b[0m\u001b[0mself\u001b[0m\u001b[0;34m)\u001b[0m\u001b[0;34m:\u001b[0m\u001b[0;34m\u001b[0m\u001b[0;34m\u001b[0m\u001b[0m\n",
      "\u001b[0;32m~/Development/env/lib/python3.7/site-packages/pandas/io/parsers.py\u001b[0m in \u001b[0;36m_make_engine\u001b[0;34m(self, engine)\u001b[0m\n\u001b[1;32m   1133\u001b[0m     \u001b[0;32mdef\u001b[0m \u001b[0m_make_engine\u001b[0m\u001b[0;34m(\u001b[0m\u001b[0mself\u001b[0m\u001b[0;34m,\u001b[0m \u001b[0mengine\u001b[0m\u001b[0;34m=\u001b[0m\u001b[0;34m\"c\"\u001b[0m\u001b[0;34m)\u001b[0m\u001b[0;34m:\u001b[0m\u001b[0;34m\u001b[0m\u001b[0;34m\u001b[0m\u001b[0m\n\u001b[1;32m   1134\u001b[0m         \u001b[0;32mif\u001b[0m \u001b[0mengine\u001b[0m \u001b[0;34m==\u001b[0m \u001b[0;34m\"c\"\u001b[0m\u001b[0;34m:\u001b[0m\u001b[0;34m\u001b[0m\u001b[0;34m\u001b[0m\u001b[0m\n\u001b[0;32m-> 1135\u001b[0;31m             \u001b[0mself\u001b[0m\u001b[0;34m.\u001b[0m\u001b[0m_engine\u001b[0m \u001b[0;34m=\u001b[0m \u001b[0mCParserWrapper\u001b[0m\u001b[0;34m(\u001b[0m\u001b[0mself\u001b[0m\u001b[0;34m.\u001b[0m\u001b[0mf\u001b[0m\u001b[0;34m,\u001b[0m \u001b[0;34m**\u001b[0m\u001b[0mself\u001b[0m\u001b[0;34m.\u001b[0m\u001b[0moptions\u001b[0m\u001b[0;34m)\u001b[0m\u001b[0;34m\u001b[0m\u001b[0;34m\u001b[0m\u001b[0m\n\u001b[0m\u001b[1;32m   1136\u001b[0m         \u001b[0;32melse\u001b[0m\u001b[0;34m:\u001b[0m\u001b[0;34m\u001b[0m\u001b[0;34m\u001b[0m\u001b[0m\n\u001b[1;32m   1137\u001b[0m             \u001b[0;32mif\u001b[0m \u001b[0mengine\u001b[0m \u001b[0;34m==\u001b[0m \u001b[0;34m\"python\"\u001b[0m\u001b[0;34m:\u001b[0m\u001b[0;34m\u001b[0m\u001b[0;34m\u001b[0m\u001b[0m\n",
      "\u001b[0;32m~/Development/env/lib/python3.7/site-packages/pandas/io/parsers.py\u001b[0m in \u001b[0;36m__init__\u001b[0;34m(self, src, **kwds)\u001b[0m\n\u001b[1;32m   1915\u001b[0m         \u001b[0mkwds\u001b[0m\u001b[0;34m[\u001b[0m\u001b[0;34m\"usecols\"\u001b[0m\u001b[0;34m]\u001b[0m \u001b[0;34m=\u001b[0m \u001b[0mself\u001b[0m\u001b[0;34m.\u001b[0m\u001b[0musecols\u001b[0m\u001b[0;34m\u001b[0m\u001b[0;34m\u001b[0m\u001b[0m\n\u001b[1;32m   1916\u001b[0m \u001b[0;34m\u001b[0m\u001b[0m\n\u001b[0;32m-> 1917\u001b[0;31m         \u001b[0mself\u001b[0m\u001b[0;34m.\u001b[0m\u001b[0m_reader\u001b[0m \u001b[0;34m=\u001b[0m \u001b[0mparsers\u001b[0m\u001b[0;34m.\u001b[0m\u001b[0mTextReader\u001b[0m\u001b[0;34m(\u001b[0m\u001b[0msrc\u001b[0m\u001b[0;34m,\u001b[0m \u001b[0;34m**\u001b[0m\u001b[0mkwds\u001b[0m\u001b[0;34m)\u001b[0m\u001b[0;34m\u001b[0m\u001b[0;34m\u001b[0m\u001b[0m\n\u001b[0m\u001b[1;32m   1918\u001b[0m         \u001b[0mself\u001b[0m\u001b[0;34m.\u001b[0m\u001b[0munnamed_cols\u001b[0m \u001b[0;34m=\u001b[0m \u001b[0mself\u001b[0m\u001b[0;34m.\u001b[0m\u001b[0m_reader\u001b[0m\u001b[0;34m.\u001b[0m\u001b[0munnamed_cols\u001b[0m\u001b[0;34m\u001b[0m\u001b[0;34m\u001b[0m\u001b[0m\n\u001b[1;32m   1919\u001b[0m \u001b[0;34m\u001b[0m\u001b[0m\n",
      "\u001b[0;32mpandas/_libs/parsers.pyx\u001b[0m in \u001b[0;36mpandas._libs.parsers.TextReader.__cinit__\u001b[0;34m()\u001b[0m\n",
      "\u001b[0;32mpandas/_libs/parsers.pyx\u001b[0m in \u001b[0;36mpandas._libs.parsers.TextReader._setup_parser_source\u001b[0;34m()\u001b[0m\n",
      "\u001b[0;31mFileNotFoundError\u001b[0m: [Errno 2] File b'petfinder-adoption-prediction/train/train.csv' does not exist: b'petfinder-adoption-prediction/train/train.csv'"
     ]
    }
   ],
   "source": [
    "df_orig = pd.read_csv(r'petfinder-adoption-prediction/train/train.csv', index_col = \"PetID\")"
   ]
  },
  {
   "cell_type": "code",
   "execution_count": 4,
   "metadata": {
    "_uuid": "1881d15338250d5098d019e939f888c8204d1f05"
   },
   "outputs": [
    {
     "ename": "NameError",
     "evalue": "name 'df_orig' is not defined",
     "output_type": "error",
     "traceback": [
      "\u001b[0;31m---------------------------------------------------------------------------\u001b[0m",
      "\u001b[0;31mNameError\u001b[0m                                 Traceback (most recent call last)",
      "\u001b[0;32m<ipython-input-4-704e807438ef>\u001b[0m in \u001b[0;36m<module>\u001b[0;34m\u001b[0m\n\u001b[0;32m----> 1\u001b[0;31m \u001b[0mdf_orig\u001b[0m\u001b[0;34m.\u001b[0m\u001b[0mhead\u001b[0m\u001b[0;34m(\u001b[0m\u001b[0;34m)\u001b[0m\u001b[0;34m\u001b[0m\u001b[0;34m\u001b[0m\u001b[0m\n\u001b[0m",
      "\u001b[0;31mNameError\u001b[0m: name 'df_orig' is not defined"
     ]
    }
   ],
   "source": [
    "df_orig.head()"
   ]
  },
  {
   "cell_type": "code",
   "execution_count": 5,
   "metadata": {
    "_uuid": "d870b28df83eb2af94c9160b7216e4ed22789c66"
   },
   "outputs": [
    {
     "ename": "NameError",
     "evalue": "name 'df_orig' is not defined",
     "output_type": "error",
     "traceback": [
      "\u001b[0;31m---------------------------------------------------------------------------\u001b[0m",
      "\u001b[0;31mNameError\u001b[0m                                 Traceback (most recent call last)",
      "\u001b[0;32m<ipython-input-5-bfed560dea3f>\u001b[0m in \u001b[0;36m<module>\u001b[0;34m\u001b[0m\n\u001b[0;32m----> 1\u001b[0;31m \u001b[0mprint\u001b[0m\u001b[0;34m(\u001b[0m\u001b[0;34m\"Columns that contains NA:\"\u001b[0m\u001b[0;34m,\u001b[0m \u001b[0mlist\u001b[0m\u001b[0;34m(\u001b[0m\u001b[0mdf_orig\u001b[0m\u001b[0;34m.\u001b[0m\u001b[0mcolumns\u001b[0m\u001b[0;34m[\u001b[0m\u001b[0mdf_orig\u001b[0m\u001b[0;34m.\u001b[0m\u001b[0misna\u001b[0m\u001b[0;34m(\u001b[0m\u001b[0;34m)\u001b[0m\u001b[0;34m.\u001b[0m\u001b[0many\u001b[0m\u001b[0;34m(\u001b[0m\u001b[0;34m)\u001b[0m\u001b[0;34m]\u001b[0m\u001b[0;34m)\u001b[0m\u001b[0;34m)\u001b[0m\u001b[0;34m\u001b[0m\u001b[0;34m\u001b[0m\u001b[0m\n\u001b[0m",
      "\u001b[0;31mNameError\u001b[0m: name 'df_orig' is not defined"
     ]
    }
   ],
   "source": [
    "print(\"Columns that contains NA:\", list(df_orig.columns[df_orig.isna().any()]))"
   ]
  },
  {
   "cell_type": "code",
   "execution_count": 6,
   "metadata": {
    "_uuid": "96c1d1d05c56ef3f71951b5935ed9f432dc5aafe"
   },
   "outputs": [
    {
     "ename": "NameError",
     "evalue": "name 'df_orig' is not defined",
     "output_type": "error",
     "traceback": [
      "\u001b[0;31m---------------------------------------------------------------------------\u001b[0m",
      "\u001b[0;31mNameError\u001b[0m                                 Traceback (most recent call last)",
      "\u001b[0;32m<ipython-input-6-67640dcc0fa6>\u001b[0m in \u001b[0;36m<module>\u001b[0;34m\u001b[0m\n\u001b[0;32m----> 1\u001b[0;31m \u001b[0mdf\u001b[0m \u001b[0;34m=\u001b[0m \u001b[0mdf_orig\u001b[0m\u001b[0;34m.\u001b[0m\u001b[0mcopy\u001b[0m\u001b[0;34m(\u001b[0m\u001b[0;34m)\u001b[0m \u001b[0;31m#to avoid not change initial dataframe\u001b[0m\u001b[0;34m\u001b[0m\u001b[0;34m\u001b[0m\u001b[0m\n\u001b[0m",
      "\u001b[0;31mNameError\u001b[0m: name 'df_orig' is not defined"
     ]
    }
   ],
   "source": [
    "df = df_orig.copy() #to avoid not change initial dataframe"
   ]
  },
  {
   "cell_type": "markdown",
   "metadata": {
    "_uuid": "c0b530569ca4656cd749490c1336cb6b0d17216b"
   },
   "source": [
    "### Labels mapping"
   ]
  },
  {
   "cell_type": "code",
   "execution_count": 7,
   "metadata": {
    "_uuid": "216067fc34c38f6085bbc936207d66f8d45e0010"
   },
   "outputs": [],
   "source": [
    "breeds = pd.read_csv('petfinder-adoption-prediction/breed_labels.csv')\n",
    "colors = pd.read_csv('petfinder-adoption-prediction/color_labels.csv')\n",
    "states = pd.read_csv('petfinder-adoption-prediction/state_labels.csv')"
   ]
  },
  {
   "cell_type": "code",
   "execution_count": 8,
   "metadata": {
    "_uuid": "72bd73e9f10cb02ae3ea7c4dac42338a19aa68ae"
   },
   "outputs": [
    {
     "data": {
      "text/html": [
       "<div>\n",
       "<style scoped>\n",
       "    .dataframe tbody tr th:only-of-type {\n",
       "        vertical-align: middle;\n",
       "    }\n",
       "\n",
       "    .dataframe tbody tr th {\n",
       "        vertical-align: top;\n",
       "    }\n",
       "\n",
       "    .dataframe thead th {\n",
       "        text-align: right;\n",
       "    }\n",
       "</style>\n",
       "<table border=\"1\" class=\"dataframe\">\n",
       "  <thead>\n",
       "    <tr style=\"text-align: right;\">\n",
       "      <th></th>\n",
       "      <th>BreedID</th>\n",
       "      <th>Type</th>\n",
       "      <th>BreedName</th>\n",
       "    </tr>\n",
       "  </thead>\n",
       "  <tbody>\n",
       "    <tr>\n",
       "      <th>0</th>\n",
       "      <td>1</td>\n",
       "      <td>1</td>\n",
       "      <td>Affenpinscher</td>\n",
       "    </tr>\n",
       "    <tr>\n",
       "      <th>1</th>\n",
       "      <td>2</td>\n",
       "      <td>1</td>\n",
       "      <td>Afghan Hound</td>\n",
       "    </tr>\n",
       "    <tr>\n",
       "      <th>2</th>\n",
       "      <td>3</td>\n",
       "      <td>1</td>\n",
       "      <td>Airedale Terrier</td>\n",
       "    </tr>\n",
       "    <tr>\n",
       "      <th>3</th>\n",
       "      <td>4</td>\n",
       "      <td>1</td>\n",
       "      <td>Akbash</td>\n",
       "    </tr>\n",
       "    <tr>\n",
       "      <th>4</th>\n",
       "      <td>5</td>\n",
       "      <td>1</td>\n",
       "      <td>Akita</td>\n",
       "    </tr>\n",
       "  </tbody>\n",
       "</table>\n",
       "</div>"
      ],
      "text/plain": [
       "   BreedID  Type         BreedName\n",
       "0        1     1     Affenpinscher\n",
       "1        2     1      Afghan Hound\n",
       "2        3     1  Airedale Terrier\n",
       "3        4     1            Akbash\n",
       "4        5     1             Akita"
      ]
     },
     "metadata": {},
     "output_type": "display_data"
    },
    {
     "data": {
      "text/html": [
       "<div>\n",
       "<style scoped>\n",
       "    .dataframe tbody tr th:only-of-type {\n",
       "        vertical-align: middle;\n",
       "    }\n",
       "\n",
       "    .dataframe tbody tr th {\n",
       "        vertical-align: top;\n",
       "    }\n",
       "\n",
       "    .dataframe thead th {\n",
       "        text-align: right;\n",
       "    }\n",
       "</style>\n",
       "<table border=\"1\" class=\"dataframe\">\n",
       "  <thead>\n",
       "    <tr style=\"text-align: right;\">\n",
       "      <th></th>\n",
       "      <th>ColorID</th>\n",
       "      <th>ColorName</th>\n",
       "    </tr>\n",
       "  </thead>\n",
       "  <tbody>\n",
       "    <tr>\n",
       "      <th>0</th>\n",
       "      <td>1</td>\n",
       "      <td>Black</td>\n",
       "    </tr>\n",
       "    <tr>\n",
       "      <th>1</th>\n",
       "      <td>2</td>\n",
       "      <td>Brown</td>\n",
       "    </tr>\n",
       "    <tr>\n",
       "      <th>2</th>\n",
       "      <td>3</td>\n",
       "      <td>Golden</td>\n",
       "    </tr>\n",
       "    <tr>\n",
       "      <th>3</th>\n",
       "      <td>4</td>\n",
       "      <td>Yellow</td>\n",
       "    </tr>\n",
       "    <tr>\n",
       "      <th>4</th>\n",
       "      <td>5</td>\n",
       "      <td>Cream</td>\n",
       "    </tr>\n",
       "  </tbody>\n",
       "</table>\n",
       "</div>"
      ],
      "text/plain": [
       "   ColorID ColorName\n",
       "0        1     Black\n",
       "1        2     Brown\n",
       "2        3    Golden\n",
       "3        4    Yellow\n",
       "4        5     Cream"
      ]
     },
     "metadata": {},
     "output_type": "display_data"
    },
    {
     "data": {
      "text/html": [
       "<div>\n",
       "<style scoped>\n",
       "    .dataframe tbody tr th:only-of-type {\n",
       "        vertical-align: middle;\n",
       "    }\n",
       "\n",
       "    .dataframe tbody tr th {\n",
       "        vertical-align: top;\n",
       "    }\n",
       "\n",
       "    .dataframe thead th {\n",
       "        text-align: right;\n",
       "    }\n",
       "</style>\n",
       "<table border=\"1\" class=\"dataframe\">\n",
       "  <thead>\n",
       "    <tr style=\"text-align: right;\">\n",
       "      <th></th>\n",
       "      <th>StateID</th>\n",
       "      <th>StateName</th>\n",
       "    </tr>\n",
       "  </thead>\n",
       "  <tbody>\n",
       "    <tr>\n",
       "      <th>0</th>\n",
       "      <td>41336</td>\n",
       "      <td>Johor</td>\n",
       "    </tr>\n",
       "    <tr>\n",
       "      <th>1</th>\n",
       "      <td>41325</td>\n",
       "      <td>Kedah</td>\n",
       "    </tr>\n",
       "    <tr>\n",
       "      <th>2</th>\n",
       "      <td>41367</td>\n",
       "      <td>Kelantan</td>\n",
       "    </tr>\n",
       "    <tr>\n",
       "      <th>3</th>\n",
       "      <td>41401</td>\n",
       "      <td>Kuala Lumpur</td>\n",
       "    </tr>\n",
       "    <tr>\n",
       "      <th>4</th>\n",
       "      <td>41415</td>\n",
       "      <td>Labuan</td>\n",
       "    </tr>\n",
       "  </tbody>\n",
       "</table>\n",
       "</div>"
      ],
      "text/plain": [
       "   StateID     StateName\n",
       "0    41336         Johor\n",
       "1    41325         Kedah\n",
       "2    41367      Kelantan\n",
       "3    41401  Kuala Lumpur\n",
       "4    41415        Labuan"
      ]
     },
     "metadata": {},
     "output_type": "display_data"
    }
   ],
   "source": [
    "display(breeds.head())\n",
    "display(colors.head())\n",
    "display(states.head())"
   ]
  },
  {
   "cell_type": "code",
   "execution_count": 9,
   "metadata": {
    "_uuid": "dab89a913bc3c3da73df1a6e93f5f619cdadfc5f"
   },
   "outputs": [],
   "source": [
    "breed_labels = dict(zip(breeds.BreedID,\n",
    "                       breeds.BreedName))\n",
    "\n",
    "color_labels = dict(zip(colors.ColorID,\n",
    "                       colors.ColorName))\n",
    "\n",
    "state_labels = dict(zip(states.StateID,\n",
    "                       states.StateName))"
   ]
  },
  {
   "cell_type": "code",
   "execution_count": 10,
   "metadata": {
    "_uuid": "0e871966bf5ec062bb5dd03330f2c5cf31774d68"
   },
   "outputs": [],
   "source": [
    "type_labels = {1 : 'Dog', \n",
    "               2 : 'Cat'}\n",
    "\n",
    "gender_labels = {1 : 'Male', \n",
    "                 2 : 'Female', \n",
    "                 3 : 'Mixed (group of pets)'}\n",
    "\n",
    "maturity_size_labels = {1 : 'Small', \n",
    "                        2 : 'Medium', \n",
    "                        3 : 'Large', \n",
    "                        4 : 'Extra Large', \n",
    "                        0 : 'Not Specified'}\n",
    "\n",
    "fur_length_labels = {1 : 'Short', \n",
    "                     2 : 'Medium', \n",
    "                     3 : 'Long', \n",
    "                     0 : 'Not Specified'}\n",
    "\n",
    "# for columns 'Vaccinated', 'Dewormed', 'Sterilized'\n",
    "treatment_labels = {1 : 'Yes', \n",
    "                    2 : 'No', \n",
    "                    3 : 'Not Sure'}\n",
    "\n",
    "health_labels = {1 : 'Healthy', \n",
    "                 2 : 'Minor Injury', \n",
    "                 3 : 'Serious Injury', \n",
    "                 0 : 'Not Specified'}"
   ]
  },
  {
   "cell_type": "code",
   "execution_count": 11,
   "metadata": {
    "_uuid": "bd11eedfb32cb96c421f9c1051243bdb38beb673"
   },
   "outputs": [],
   "source": [
    "for i in [1,2]:\n",
    "    df['Breed{}'.format(i)] = df['Breed{}'.format(i)].map(breed_labels)\n",
    "    \n",
    "for i in [1,2,3]:\n",
    "    df['Color{}'.format(i)] = df['Color{}'.format(i)].map(color_labels)\n",
    "\n",
    "df['State'] = df['State'].map(state_labels)\n",
    "df['Type'] = df['Type'].map(type_labels)\n",
    "df['Gender'] = df['Gender'].map(gender_labels)\n",
    "df['MaturitySize'] = df['MaturitySize'].map(maturity_size_labels)\n",
    "df['FurLength'] = df['FurLength'].map(fur_length_labels)\n",
    "\n",
    "for col in ['Vaccinated', 'Dewormed', 'Sterilized']:\n",
    "    df[col] = df[col].map(treatment_labels)\n",
    "    \n",
    "df['Health'] = df['Health'].map(health_labels)"
   ]
  },
  {
   "cell_type": "code",
   "execution_count": 12,
   "metadata": {
    "_uuid": "df23c0dc48d026fbb0cee8f889943f684e8617f8"
   },
   "outputs": [
    {
     "data": {
      "text/html": [
       "<div>\n",
       "<style scoped>\n",
       "    .dataframe tbody tr th:only-of-type {\n",
       "        vertical-align: middle;\n",
       "    }\n",
       "\n",
       "    .dataframe tbody tr th {\n",
       "        vertical-align: top;\n",
       "    }\n",
       "\n",
       "    .dataframe thead th {\n",
       "        text-align: right;\n",
       "    }\n",
       "</style>\n",
       "<table border=\"1\" class=\"dataframe\">\n",
       "  <thead>\n",
       "    <tr style=\"text-align: right;\">\n",
       "      <th></th>\n",
       "      <th>Type</th>\n",
       "      <th>Name</th>\n",
       "      <th>Age</th>\n",
       "      <th>Breed1</th>\n",
       "      <th>Breed2</th>\n",
       "      <th>Gender</th>\n",
       "      <th>Color1</th>\n",
       "      <th>Color2</th>\n",
       "      <th>Color3</th>\n",
       "      <th>MaturitySize</th>\n",
       "      <th>FurLength</th>\n",
       "      <th>Vaccinated</th>\n",
       "      <th>Dewormed</th>\n",
       "      <th>Sterilized</th>\n",
       "      <th>Health</th>\n",
       "      <th>Quantity</th>\n",
       "      <th>Fee</th>\n",
       "      <th>State</th>\n",
       "      <th>RescuerID</th>\n",
       "      <th>VideoAmt</th>\n",
       "      <th>Description</th>\n",
       "      <th>PhotoAmt</th>\n",
       "      <th>AdoptionSpeed</th>\n",
       "    </tr>\n",
       "    <tr>\n",
       "      <th>PetID</th>\n",
       "      <th></th>\n",
       "      <th></th>\n",
       "      <th></th>\n",
       "      <th></th>\n",
       "      <th></th>\n",
       "      <th></th>\n",
       "      <th></th>\n",
       "      <th></th>\n",
       "      <th></th>\n",
       "      <th></th>\n",
       "      <th></th>\n",
       "      <th></th>\n",
       "      <th></th>\n",
       "      <th></th>\n",
       "      <th></th>\n",
       "      <th></th>\n",
       "      <th></th>\n",
       "      <th></th>\n",
       "      <th></th>\n",
       "      <th></th>\n",
       "      <th></th>\n",
       "      <th></th>\n",
       "      <th></th>\n",
       "    </tr>\n",
       "  </thead>\n",
       "  <tbody>\n",
       "    <tr>\n",
       "      <th>86e1089a3</th>\n",
       "      <td>Cat</td>\n",
       "      <td>Nibble</td>\n",
       "      <td>3</td>\n",
       "      <td>Tabby</td>\n",
       "      <td>NaN</td>\n",
       "      <td>Male</td>\n",
       "      <td>Black</td>\n",
       "      <td>White</td>\n",
       "      <td>NaN</td>\n",
       "      <td>Small</td>\n",
       "      <td>Short</td>\n",
       "      <td>No</td>\n",
       "      <td>No</td>\n",
       "      <td>No</td>\n",
       "      <td>Healthy</td>\n",
       "      <td>1</td>\n",
       "      <td>100</td>\n",
       "      <td>Selangor</td>\n",
       "      <td>8480853f516546f6cf33aa88cd76c379</td>\n",
       "      <td>0</td>\n",
       "      <td>Nibble is a 3+ month old ball of cuteness. He ...</td>\n",
       "      <td>1.0</td>\n",
       "      <td>2</td>\n",
       "    </tr>\n",
       "    <tr>\n",
       "      <th>6296e909a</th>\n",
       "      <td>Cat</td>\n",
       "      <td>No Name Yet</td>\n",
       "      <td>1</td>\n",
       "      <td>Domestic Medium Hair</td>\n",
       "      <td>NaN</td>\n",
       "      <td>Male</td>\n",
       "      <td>Black</td>\n",
       "      <td>Brown</td>\n",
       "      <td>NaN</td>\n",
       "      <td>Medium</td>\n",
       "      <td>Medium</td>\n",
       "      <td>Not Sure</td>\n",
       "      <td>Not Sure</td>\n",
       "      <td>Not Sure</td>\n",
       "      <td>Healthy</td>\n",
       "      <td>1</td>\n",
       "      <td>0</td>\n",
       "      <td>Kuala Lumpur</td>\n",
       "      <td>3082c7125d8fb66f7dd4bff4192c8b14</td>\n",
       "      <td>0</td>\n",
       "      <td>I just found it alone yesterday near my apartm...</td>\n",
       "      <td>2.0</td>\n",
       "      <td>0</td>\n",
       "    </tr>\n",
       "    <tr>\n",
       "      <th>3422e4906</th>\n",
       "      <td>Dog</td>\n",
       "      <td>Brisco</td>\n",
       "      <td>1</td>\n",
       "      <td>Mixed Breed</td>\n",
       "      <td>NaN</td>\n",
       "      <td>Male</td>\n",
       "      <td>Brown</td>\n",
       "      <td>White</td>\n",
       "      <td>NaN</td>\n",
       "      <td>Medium</td>\n",
       "      <td>Medium</td>\n",
       "      <td>Yes</td>\n",
       "      <td>Yes</td>\n",
       "      <td>No</td>\n",
       "      <td>Healthy</td>\n",
       "      <td>1</td>\n",
       "      <td>0</td>\n",
       "      <td>Selangor</td>\n",
       "      <td>fa90fa5b1ee11c86938398b60abc32cb</td>\n",
       "      <td>0</td>\n",
       "      <td>Their pregnant mother was dumped by her irresp...</td>\n",
       "      <td>7.0</td>\n",
       "      <td>3</td>\n",
       "    </tr>\n",
       "    <tr>\n",
       "      <th>5842f1ff5</th>\n",
       "      <td>Dog</td>\n",
       "      <td>Miko</td>\n",
       "      <td>4</td>\n",
       "      <td>Mixed Breed</td>\n",
       "      <td>NaN</td>\n",
       "      <td>Female</td>\n",
       "      <td>Black</td>\n",
       "      <td>Brown</td>\n",
       "      <td>NaN</td>\n",
       "      <td>Medium</td>\n",
       "      <td>Short</td>\n",
       "      <td>Yes</td>\n",
       "      <td>Yes</td>\n",
       "      <td>No</td>\n",
       "      <td>Healthy</td>\n",
       "      <td>1</td>\n",
       "      <td>150</td>\n",
       "      <td>Kuala Lumpur</td>\n",
       "      <td>9238e4f44c71a75282e62f7136c6b240</td>\n",
       "      <td>0</td>\n",
       "      <td>Good guard dog, very alert, active, obedience ...</td>\n",
       "      <td>8.0</td>\n",
       "      <td>2</td>\n",
       "    </tr>\n",
       "    <tr>\n",
       "      <th>850a43f90</th>\n",
       "      <td>Dog</td>\n",
       "      <td>Hunter</td>\n",
       "      <td>1</td>\n",
       "      <td>Mixed Breed</td>\n",
       "      <td>NaN</td>\n",
       "      <td>Male</td>\n",
       "      <td>Black</td>\n",
       "      <td>NaN</td>\n",
       "      <td>NaN</td>\n",
       "      <td>Medium</td>\n",
       "      <td>Short</td>\n",
       "      <td>No</td>\n",
       "      <td>No</td>\n",
       "      <td>No</td>\n",
       "      <td>Healthy</td>\n",
       "      <td>1</td>\n",
       "      <td>0</td>\n",
       "      <td>Selangor</td>\n",
       "      <td>95481e953f8aed9ec3d16fc4509537e8</td>\n",
       "      <td>0</td>\n",
       "      <td>This handsome yet cute boy is up for adoption....</td>\n",
       "      <td>3.0</td>\n",
       "      <td>2</td>\n",
       "    </tr>\n",
       "  </tbody>\n",
       "</table>\n",
       "</div>"
      ],
      "text/plain": [
       "          Type         Name  Age                Breed1 Breed2  Gender Color1  \\\n",
       "PetID                                                                          \n",
       "86e1089a3  Cat       Nibble    3                 Tabby    NaN    Male  Black   \n",
       "6296e909a  Cat  No Name Yet    1  Domestic Medium Hair    NaN    Male  Black   \n",
       "3422e4906  Dog       Brisco    1           Mixed Breed    NaN    Male  Brown   \n",
       "5842f1ff5  Dog         Miko    4           Mixed Breed    NaN  Female  Black   \n",
       "850a43f90  Dog       Hunter    1           Mixed Breed    NaN    Male  Black   \n",
       "\n",
       "          Color2 Color3 MaturitySize FurLength Vaccinated  Dewormed  \\\n",
       "PetID                                                                 \n",
       "86e1089a3  White    NaN        Small     Short         No        No   \n",
       "6296e909a  Brown    NaN       Medium    Medium   Not Sure  Not Sure   \n",
       "3422e4906  White    NaN       Medium    Medium        Yes       Yes   \n",
       "5842f1ff5  Brown    NaN       Medium     Short        Yes       Yes   \n",
       "850a43f90    NaN    NaN       Medium     Short         No        No   \n",
       "\n",
       "          Sterilized   Health  Quantity  Fee         State  \\\n",
       "PetID                                                        \n",
       "86e1089a3         No  Healthy         1  100      Selangor   \n",
       "6296e909a   Not Sure  Healthy         1    0  Kuala Lumpur   \n",
       "3422e4906         No  Healthy         1    0      Selangor   \n",
       "5842f1ff5         No  Healthy         1  150  Kuala Lumpur   \n",
       "850a43f90         No  Healthy         1    0      Selangor   \n",
       "\n",
       "                                  RescuerID  VideoAmt  \\\n",
       "PetID                                                   \n",
       "86e1089a3  8480853f516546f6cf33aa88cd76c379         0   \n",
       "6296e909a  3082c7125d8fb66f7dd4bff4192c8b14         0   \n",
       "3422e4906  fa90fa5b1ee11c86938398b60abc32cb         0   \n",
       "5842f1ff5  9238e4f44c71a75282e62f7136c6b240         0   \n",
       "850a43f90  95481e953f8aed9ec3d16fc4509537e8         0   \n",
       "\n",
       "                                                 Description  PhotoAmt  \\\n",
       "PetID                                                                    \n",
       "86e1089a3  Nibble is a 3+ month old ball of cuteness. He ...       1.0   \n",
       "6296e909a  I just found it alone yesterday near my apartm...       2.0   \n",
       "3422e4906  Their pregnant mother was dumped by her irresp...       7.0   \n",
       "5842f1ff5  Good guard dog, very alert, active, obedience ...       8.0   \n",
       "850a43f90  This handsome yet cute boy is up for adoption....       3.0   \n",
       "\n",
       "           AdoptionSpeed  \n",
       "PetID                     \n",
       "86e1089a3              2  \n",
       "6296e909a              0  \n",
       "3422e4906              3  \n",
       "5842f1ff5              2  \n",
       "850a43f90              2  "
      ]
     },
     "execution_count": 12,
     "metadata": {},
     "output_type": "execute_result"
    }
   ],
   "source": [
    "df.head()"
   ]
  },
  {
   "cell_type": "markdown",
   "metadata": {
    "_uuid": "45305eb16fafe205521e273e2e23940ad90b1e05"
   },
   "source": [
    "### Dataset exploration"
   ]
  },
  {
   "cell_type": "code",
   "execution_count": 13,
   "metadata": {
    "_uuid": "f4b1d9a7c558c65e330b9defe5d7bd074b0be236"
   },
   "outputs": [
    {
     "name": "stdout",
     "output_type": "stream",
     "text": [
      "Number of rows: 14993\n",
      "Number of columns: 23\n"
     ]
    }
   ],
   "source": [
    "print(\"Number of rows:\", df.shape[0])\n",
    "print(\"Number of columns:\", df.shape[1])"
   ]
  },
  {
   "cell_type": "code",
   "execution_count": 14,
   "metadata": {
    "_uuid": "80ee97a3534888fbc558f0480dae33b06020d3ea"
   },
   "outputs": [
    {
     "name": "stdout",
     "output_type": "stream",
     "text": [
      "<class 'pandas.core.frame.DataFrame'>\n",
      "Index: 14993 entries, 86e1089a3 to a83d95ead\n",
      "Data columns (total 23 columns):\n",
      "Type             14993 non-null object\n",
      "Name             13736 non-null object\n",
      "Age              14993 non-null int64\n",
      "Breed1           14988 non-null object\n",
      "Breed2           4231 non-null object\n",
      "Gender           14993 non-null object\n",
      "Color1           14993 non-null object\n",
      "Color2           10522 non-null object\n",
      "Color3           4389 non-null object\n",
      "MaturitySize     14993 non-null object\n",
      "FurLength        14993 non-null object\n",
      "Vaccinated       14993 non-null object\n",
      "Dewormed         14993 non-null object\n",
      "Sterilized       14993 non-null object\n",
      "Health           14993 non-null object\n",
      "Quantity         14993 non-null int64\n",
      "Fee              14993 non-null int64\n",
      "State            14993 non-null object\n",
      "RescuerID        14993 non-null object\n",
      "VideoAmt         14993 non-null int64\n",
      "Description      14981 non-null object\n",
      "PhotoAmt         14993 non-null float64\n",
      "AdoptionSpeed    14993 non-null int64\n",
      "dtypes: float64(1), int64(5), object(17)\n",
      "memory usage: 2.7+ MB\n"
     ]
    }
   ],
   "source": [
    "df.info()"
   ]
  },
  {
   "cell_type": "markdown",
   "metadata": {
    "_uuid": "3e9e203fba62b29688c0ea3562301276d1ecc0d7"
   },
   "source": [
    "From these informations we can already see that some features won't be relevant in our exploratory analysis as there are too much missing values - we will ommit Breed2, Color2 and Color3 due to low number of non-null values."
   ]
  },
  {
   "cell_type": "code",
   "execution_count": 15,
   "metadata": {
    "_uuid": "f9039d2eeeb5bad3296ac246f7227d2314c17169"
   },
   "outputs": [
    {
     "name": "stdout",
     "output_type": "stream",
     "text": [
      "Columns that contains NA: ['Name', 'Breed1', 'Breed2', 'Color2', 'Color3', 'Description']\n"
     ]
    }
   ],
   "source": [
    "print(\"Columns that contains NA:\", list(df_orig.columns[df.isna().any()]))"
   ]
  },
  {
   "cell_type": "markdown",
   "metadata": {
    "_uuid": "7ca344421a4f7a777b761119f84554fcc6c3cab4"
   },
   "source": [
    "The Breed1 is a primary breed of pet and it does not suggest any missing values. However, some IDs from Breed1 were absent in the csv file with breed labels."
   ]
  },
  {
   "cell_type": "code",
   "execution_count": 16,
   "metadata": {
    "_uuid": "3f612f03a61dbe800bad763d5bb8f9c58fba904e"
   },
   "outputs": [
    {
     "name": "stdout",
     "output_type": "stream",
     "text": [
      "Number of rows that have missing values in Breed1:  5\n"
     ]
    }
   ],
   "source": [
    "missing_Breed1 = df[df[['Breed1']].isnull().any(axis=1)]\n",
    "print(\"Number of rows that have missing values in Breed1: \", \n",
    "      missing_Breed1.shape[0])"
   ]
  },
  {
   "cell_type": "markdown",
   "metadata": {
    "_uuid": "6f1e04c2cd889c9c8115405f3ef4a2905b8fea00"
   },
   "source": [
    "Removing those 5 rows."
   ]
  },
  {
   "cell_type": "code",
   "execution_count": 17,
   "metadata": {
    "_uuid": "cb92b49cc154fc4a8cc32c5a3236d7c329ee019d"
   },
   "outputs": [],
   "source": [
    "df.drop(list(missing_Breed1.index), axis =0, inplace = True)"
   ]
  },
  {
   "cell_type": "markdown",
   "metadata": {
    "_uuid": "d10b5d799979604bf9c2779c55fadc8ed573a566"
   },
   "source": [
    "Columns 'Name', 'Breed2', 'Color2', 'Color3' and 'Description' won't be used in further exploration, so I leave them as they are. But those columns may be used for new features creation, so I don't remove them."
   ]
  },
  {
   "cell_type": "code",
   "execution_count": 18,
   "metadata": {},
   "outputs": [
    {
     "data": {
      "text/html": [
       "<div>\n",
       "<style scoped>\n",
       "    .dataframe tbody tr th:only-of-type {\n",
       "        vertical-align: middle;\n",
       "    }\n",
       "\n",
       "    .dataframe tbody tr th {\n",
       "        vertical-align: top;\n",
       "    }\n",
       "\n",
       "    .dataframe thead th {\n",
       "        text-align: right;\n",
       "    }\n",
       "</style>\n",
       "<table border=\"1\" class=\"dataframe\">\n",
       "  <thead>\n",
       "    <tr style=\"text-align: right;\">\n",
       "      <th></th>\n",
       "      <th>Type</th>\n",
       "      <th>Name</th>\n",
       "      <th>Age</th>\n",
       "      <th>Breed1</th>\n",
       "      <th>Breed2</th>\n",
       "      <th>Gender</th>\n",
       "      <th>Color1</th>\n",
       "      <th>Color2</th>\n",
       "      <th>Color3</th>\n",
       "      <th>MaturitySize</th>\n",
       "      <th>FurLength</th>\n",
       "      <th>Vaccinated</th>\n",
       "      <th>Dewormed</th>\n",
       "      <th>Sterilized</th>\n",
       "      <th>Health</th>\n",
       "      <th>Quantity</th>\n",
       "      <th>Fee</th>\n",
       "      <th>State</th>\n",
       "      <th>RescuerID</th>\n",
       "      <th>VideoAmt</th>\n",
       "      <th>Description</th>\n",
       "      <th>PhotoAmt</th>\n",
       "      <th>AdoptionSpeed</th>\n",
       "    </tr>\n",
       "    <tr>\n",
       "      <th>PetID</th>\n",
       "      <th></th>\n",
       "      <th></th>\n",
       "      <th></th>\n",
       "      <th></th>\n",
       "      <th></th>\n",
       "      <th></th>\n",
       "      <th></th>\n",
       "      <th></th>\n",
       "      <th></th>\n",
       "      <th></th>\n",
       "      <th></th>\n",
       "      <th></th>\n",
       "      <th></th>\n",
       "      <th></th>\n",
       "      <th></th>\n",
       "      <th></th>\n",
       "      <th></th>\n",
       "      <th></th>\n",
       "      <th></th>\n",
       "      <th></th>\n",
       "      <th></th>\n",
       "      <th></th>\n",
       "      <th></th>\n",
       "    </tr>\n",
       "  </thead>\n",
       "  <tbody>\n",
       "    <tr>\n",
       "      <th>86e1089a3</th>\n",
       "      <td>Cat</td>\n",
       "      <td>Nibble</td>\n",
       "      <td>3</td>\n",
       "      <td>Tabby</td>\n",
       "      <td>NaN</td>\n",
       "      <td>Male</td>\n",
       "      <td>Black</td>\n",
       "      <td>White</td>\n",
       "      <td>NaN</td>\n",
       "      <td>Small</td>\n",
       "      <td>Short</td>\n",
       "      <td>No</td>\n",
       "      <td>No</td>\n",
       "      <td>No</td>\n",
       "      <td>Healthy</td>\n",
       "      <td>1</td>\n",
       "      <td>100</td>\n",
       "      <td>Selangor</td>\n",
       "      <td>8480853f516546f6cf33aa88cd76c379</td>\n",
       "      <td>0</td>\n",
       "      <td>Nibble is a 3+ month old ball of cuteness. He ...</td>\n",
       "      <td>1.0</td>\n",
       "      <td>2</td>\n",
       "    </tr>\n",
       "    <tr>\n",
       "      <th>6296e909a</th>\n",
       "      <td>Cat</td>\n",
       "      <td>No Name Yet</td>\n",
       "      <td>1</td>\n",
       "      <td>Domestic Medium Hair</td>\n",
       "      <td>NaN</td>\n",
       "      <td>Male</td>\n",
       "      <td>Black</td>\n",
       "      <td>Brown</td>\n",
       "      <td>NaN</td>\n",
       "      <td>Medium</td>\n",
       "      <td>Medium</td>\n",
       "      <td>Not Sure</td>\n",
       "      <td>Not Sure</td>\n",
       "      <td>Not Sure</td>\n",
       "      <td>Healthy</td>\n",
       "      <td>1</td>\n",
       "      <td>0</td>\n",
       "      <td>Kuala Lumpur</td>\n",
       "      <td>3082c7125d8fb66f7dd4bff4192c8b14</td>\n",
       "      <td>0</td>\n",
       "      <td>I just found it alone yesterday near my apartm...</td>\n",
       "      <td>2.0</td>\n",
       "      <td>0</td>\n",
       "    </tr>\n",
       "    <tr>\n",
       "      <th>3422e4906</th>\n",
       "      <td>Dog</td>\n",
       "      <td>Brisco</td>\n",
       "      <td>1</td>\n",
       "      <td>Mixed Breed</td>\n",
       "      <td>NaN</td>\n",
       "      <td>Male</td>\n",
       "      <td>Brown</td>\n",
       "      <td>White</td>\n",
       "      <td>NaN</td>\n",
       "      <td>Medium</td>\n",
       "      <td>Medium</td>\n",
       "      <td>Yes</td>\n",
       "      <td>Yes</td>\n",
       "      <td>No</td>\n",
       "      <td>Healthy</td>\n",
       "      <td>1</td>\n",
       "      <td>0</td>\n",
       "      <td>Selangor</td>\n",
       "      <td>fa90fa5b1ee11c86938398b60abc32cb</td>\n",
       "      <td>0</td>\n",
       "      <td>Their pregnant mother was dumped by her irresp...</td>\n",
       "      <td>7.0</td>\n",
       "      <td>3</td>\n",
       "    </tr>\n",
       "    <tr>\n",
       "      <th>5842f1ff5</th>\n",
       "      <td>Dog</td>\n",
       "      <td>Miko</td>\n",
       "      <td>4</td>\n",
       "      <td>Mixed Breed</td>\n",
       "      <td>NaN</td>\n",
       "      <td>Female</td>\n",
       "      <td>Black</td>\n",
       "      <td>Brown</td>\n",
       "      <td>NaN</td>\n",
       "      <td>Medium</td>\n",
       "      <td>Short</td>\n",
       "      <td>Yes</td>\n",
       "      <td>Yes</td>\n",
       "      <td>No</td>\n",
       "      <td>Healthy</td>\n",
       "      <td>1</td>\n",
       "      <td>150</td>\n",
       "      <td>Kuala Lumpur</td>\n",
       "      <td>9238e4f44c71a75282e62f7136c6b240</td>\n",
       "      <td>0</td>\n",
       "      <td>Good guard dog, very alert, active, obedience ...</td>\n",
       "      <td>8.0</td>\n",
       "      <td>2</td>\n",
       "    </tr>\n",
       "    <tr>\n",
       "      <th>850a43f90</th>\n",
       "      <td>Dog</td>\n",
       "      <td>Hunter</td>\n",
       "      <td>1</td>\n",
       "      <td>Mixed Breed</td>\n",
       "      <td>NaN</td>\n",
       "      <td>Male</td>\n",
       "      <td>Black</td>\n",
       "      <td>NaN</td>\n",
       "      <td>NaN</td>\n",
       "      <td>Medium</td>\n",
       "      <td>Short</td>\n",
       "      <td>No</td>\n",
       "      <td>No</td>\n",
       "      <td>No</td>\n",
       "      <td>Healthy</td>\n",
       "      <td>1</td>\n",
       "      <td>0</td>\n",
       "      <td>Selangor</td>\n",
       "      <td>95481e953f8aed9ec3d16fc4509537e8</td>\n",
       "      <td>0</td>\n",
       "      <td>This handsome yet cute boy is up for adoption....</td>\n",
       "      <td>3.0</td>\n",
       "      <td>2</td>\n",
       "    </tr>\n",
       "  </tbody>\n",
       "</table>\n",
       "</div>"
      ],
      "text/plain": [
       "          Type         Name  Age                Breed1 Breed2  Gender Color1  \\\n",
       "PetID                                                                          \n",
       "86e1089a3  Cat       Nibble    3                 Tabby    NaN    Male  Black   \n",
       "6296e909a  Cat  No Name Yet    1  Domestic Medium Hair    NaN    Male  Black   \n",
       "3422e4906  Dog       Brisco    1           Mixed Breed    NaN    Male  Brown   \n",
       "5842f1ff5  Dog         Miko    4           Mixed Breed    NaN  Female  Black   \n",
       "850a43f90  Dog       Hunter    1           Mixed Breed    NaN    Male  Black   \n",
       "\n",
       "          Color2 Color3 MaturitySize FurLength Vaccinated  Dewormed  \\\n",
       "PetID                                                                 \n",
       "86e1089a3  White    NaN        Small     Short         No        No   \n",
       "6296e909a  Brown    NaN       Medium    Medium   Not Sure  Not Sure   \n",
       "3422e4906  White    NaN       Medium    Medium        Yes       Yes   \n",
       "5842f1ff5  Brown    NaN       Medium     Short        Yes       Yes   \n",
       "850a43f90    NaN    NaN       Medium     Short         No        No   \n",
       "\n",
       "          Sterilized   Health  Quantity  Fee         State  \\\n",
       "PetID                                                        \n",
       "86e1089a3         No  Healthy         1  100      Selangor   \n",
       "6296e909a   Not Sure  Healthy         1    0  Kuala Lumpur   \n",
       "3422e4906         No  Healthy         1    0      Selangor   \n",
       "5842f1ff5         No  Healthy         1  150  Kuala Lumpur   \n",
       "850a43f90         No  Healthy         1    0      Selangor   \n",
       "\n",
       "                                  RescuerID  VideoAmt  \\\n",
       "PetID                                                   \n",
       "86e1089a3  8480853f516546f6cf33aa88cd76c379         0   \n",
       "6296e909a  3082c7125d8fb66f7dd4bff4192c8b14         0   \n",
       "3422e4906  fa90fa5b1ee11c86938398b60abc32cb         0   \n",
       "5842f1ff5  9238e4f44c71a75282e62f7136c6b240         0   \n",
       "850a43f90  95481e953f8aed9ec3d16fc4509537e8         0   \n",
       "\n",
       "                                                 Description  PhotoAmt  \\\n",
       "PetID                                                                    \n",
       "86e1089a3  Nibble is a 3+ month old ball of cuteness. He ...       1.0   \n",
       "6296e909a  I just found it alone yesterday near my apartm...       2.0   \n",
       "3422e4906  Their pregnant mother was dumped by her irresp...       7.0   \n",
       "5842f1ff5  Good guard dog, very alert, active, obedience ...       8.0   \n",
       "850a43f90  This handsome yet cute boy is up for adoption....       3.0   \n",
       "\n",
       "           AdoptionSpeed  \n",
       "PetID                     \n",
       "86e1089a3              2  \n",
       "6296e909a              0  \n",
       "3422e4906              3  \n",
       "5842f1ff5              2  \n",
       "850a43f90              2  "
      ]
     },
     "execution_count": 18,
     "metadata": {},
     "output_type": "execute_result"
    }
   ],
   "source": [
    "df.head()"
   ]
  },
  {
   "cell_type": "code",
   "execution_count": 19,
   "metadata": {
    "_uuid": "b48114228c6a6c30de48d819f09cb75930c1f9c6"
   },
   "outputs": [],
   "source": [
    "# define AdoptionSpeed as categorical variable\n",
    "df['AdoptionSpeed'] = pd.Categorical(df['AdoptionSpeed'], \n",
    "                                     categories=[0,1,2,3,4],\n",
    "                                    ordered = True)"
   ]
  },
  {
   "cell_type": "markdown",
   "metadata": {
    "_uuid": "1264d745c4c18d5aa0bf2c1ec5475bdcfa79641a"
   },
   "source": [
    "#### Adoption Speed (target)"
   ]
  },
  {
   "cell_type": "code",
   "execution_count": 20,
   "metadata": {
    "_uuid": "cfa353bd30660985fb465e69aa0becf2f609b150"
   },
   "outputs": [
    {
     "name": "stdout",
     "output_type": "stream",
     "text": [
      "count     14988\n",
      "unique        5\n",
      "top           4\n",
      "freq       4195\n",
      "Name: AdoptionSpeed, dtype: int64\n"
     ]
    },
    {
     "data": {
      "image/png": "[encoded data removed]",
      "text/plain": [
       "<Figure size 648x576 with 1 Axes>"
      ]
     },
     "metadata": {
      "needs_background": "light"
     },
     "output_type": "display_data"
    }
   ],
   "source": [
    "print(df.AdoptionSpeed.describe())\n",
    "plt.figure(figsize=(9, 8))\n",
    "sns.countplot(df.AdoptionSpeed, palette = 'winter');"
   ]
  },
  {
   "cell_type": "markdown",
   "metadata": {
    "_uuid": "ef737918def9af82caaf86c05f0eac3634527128"
   },
   "source": [
    "The most frequent outcome is adoption after 100 days of being listed, slightly less frequent is adoption in 1st month after being listed. The least frequent outcome is adoption in the 1st day of listing."
   ]
  },
  {
   "cell_type": "markdown",
   "metadata": {
    "_uuid": "ec9abfb779989593cfb0f78173f95c89f3250cbd"
   },
   "source": [
    "#### Type"
   ]
  },
  {
   "cell_type": "code",
   "execution_count": 21,
   "metadata": {
    "_uuid": "7197cfe675ab09533ba427cd3bf4ff8ca20e0a5e"
   },
   "outputs": [
    {
     "name": "stdout",
     "output_type": "stream",
     "text": [
      "count     14988\n",
      "unique        2\n",
      "top         Dog\n",
      "freq       8128\n",
      "Name: Type, dtype: object\n"
     ]
    },
    {
     "data": {
      "image/png": "[encoded data removed]",
      "text/plain": [
       "<Figure size 576x360 with 1 Axes>"
      ]
     },
     "metadata": {
      "needs_background": "light"
     },
     "output_type": "display_data"
    }
   ],
   "source": [
    "print(df.Type.describe())\n",
    "plt.figure(figsize=(8, 5))\n",
    "sns.countplot(df.Type, palette = 'winter');"
   ]
  },
  {
   "cell_type": "markdown",
   "metadata": {
    "_uuid": "12a611729ab1bacbcd7fcdd6af5bb18840614b0b"
   },
   "source": [
    "There are more dogs in the dataset than cats."
   ]
  },
  {
   "cell_type": "code",
   "execution_count": 22,
   "metadata": {
    "_uuid": "416cd641b6f297aa2baacd97581c09b0fb4a313a"
   },
   "outputs": [
    {
     "data": {
      "image/png": "[encoded data removed]",
      "text/plain": [
       "<Figure size 443.75x360 with 1 Axes>"
      ]
     },
     "metadata": {
      "needs_background": "light"
     },
     "output_type": "display_data"
    }
   ],
   "source": [
    "sns.catplot(x=\"Type\", hue =\"AdoptionSpeed\", kind='count', data=df, palette = 'winter');"
   ]
  },
  {
   "cell_type": "code",
   "execution_count": 23,
   "metadata": {
    "_uuid": "74ddd1ac31aaac031cb838bb7a2ae2cb092482a8"
   },
   "outputs": [
    {
     "data": {
      "image/png": "[encoded data removed]",
      "text/plain": [
       "<Figure size 432x288 with 1 Axes>"
      ]
     },
     "metadata": {
      "needs_background": "light"
     },
     "output_type": "display_data"
    }
   ],
   "source": [
    "sns.boxplot(x=\"Type\", y =df.AdoptionSpeed.astype(int), data=df, palette = 'winter');"
   ]
  },
  {
   "cell_type": "markdown",
   "metadata": {
    "_uuid": "1f72e500c74f5b32267f9ccf39de875e56b544fa"
   },
   "source": [
    "Looks like cats in general are more adaptive than dogs - cats' AdoptionSpeed is lower (median=2) than than dogs' one (median=3). "
   ]
  },
  {
   "cell_type": "markdown",
   "metadata": {
    "_uuid": "a42ca158538dbdac938c6fc92bea3f4dcb26441b"
   },
   "source": [
    "#### Gender "
   ]
  },
  {
   "cell_type": "code",
   "execution_count": 24,
   "metadata": {
    "_uuid": "9fa3277aa8658ac11b33f5ad91bc14c4fbe4950f"
   },
   "outputs": [
    {
     "name": "stdout",
     "output_type": "stream",
     "text": [
      "count      14988\n",
      "unique         3\n",
      "top       Female\n",
      "freq        7274\n",
      "Name: Gender, dtype: object\n"
     ]
    },
    {
     "data": {
      "image/png": "[encoded data removed]",
      "text/plain": [
       "<Figure size 576x360 with 1 Axes>"
      ]
     },
     "metadata": {
      "needs_background": "light"
     },
     "output_type": "display_data"
    }
   ],
   "source": [
    "print(df.Gender.describe())\n",
    "plt.figure(figsize=(8, 5))\n",
    "sns.countplot(df.Gender, palette = 'winter');"
   ]
  },
  {
   "cell_type": "markdown",
   "metadata": {
    "_uuid": "2a8c316d1f1d130c1edc73dbd5a76f494d9ac69d"
   },
   "source": [
    "There are more female animals in the dataset. \n",
    "The least frequant gender type is mixed."
   ]
  },
  {
   "cell_type": "code",
   "execution_count": 25,
   "metadata": {
    "_uuid": "e414add0711738619026cd4b179ca6ad2f6d2376"
   },
   "outputs": [
    {
     "data": {
      "image/png": "[encoded data removed]",
      "text/plain": [
       "<Figure size 443.75x360 with 1 Axes>"
      ]
     },
     "metadata": {
      "needs_background": "light"
     },
     "output_type": "display_data"
    }
   ],
   "source": [
    "sns.catplot(x=\"Gender\", hue =\"AdoptionSpeed\", kind='count', data=df, palette = 'winter');"
   ]
  },
  {
   "cell_type": "code",
   "execution_count": 26,
   "metadata": {
    "_uuid": "d41e5b36a693f243fcf46d99f7f4321cc0b7453a"
   },
   "outputs": [
    {
     "data": {
      "image/png": "[encoded data removed]",
      "text/plain": [
       "<Figure size 432x288 with 1 Axes>"
      ]
     },
     "metadata": {
      "needs_background": "light"
     },
     "output_type": "display_data"
    }
   ],
   "source": [
    "sns.boxplot(x=\"Gender\", y =df.AdoptionSpeed.astype(int), data=df, palette = 'winter');"
   ]
  },
  {
   "cell_type": "markdown",
   "metadata": {
    "_uuid": "8f5c3039574abdc024840a0a6d214d5151d002e3"
   },
   "source": [
    "The adoption speed of females and mixed group animals is similar (median=3), while males have better adoption speed (median=2). "
   ]
  },
  {
   "cell_type": "markdown",
   "metadata": {
    "_uuid": "50695dc1dae5b9abead9703afd90b1e50f897ce7"
   },
   "source": [
    "#### Breed1"
   ]
  },
  {
   "cell_type": "markdown",
   "metadata": {
    "_uuid": "33bab000846fdf79ab0db655d1a8530810694ab1"
   },
   "source": [
    "Let's look at cat and dog breeds."
   ]
  },
  {
   "cell_type": "code",
   "execution_count": 27,
   "metadata": {
    "_uuid": "b09b8776fd16171e48142fa21dc5695d8ad114db"
   },
   "outputs": [
    {
     "name": "stdout",
     "output_type": "stream",
     "text": [
      "count                    6860\n",
      "unique                     67\n",
      "top       Domestic Short Hair\n",
      "freq                     3634\n",
      "Name: Breed1, dtype: object\n"
     ]
    },
    {
     "data": {
      "image/png": "[encoded data removed]",
      "text/plain": [
       "<Figure size 936x720 with 1 Axes>"
      ]
     },
     "metadata": {
      "needs_background": "light"
     },
     "output_type": "display_data"
    }
   ],
   "source": [
    "cats = df[df['Type'] == 'Cat']\n",
    "top20_cat_breeds = cats.Breed1.value_counts().sort_values(ascending = False).iloc[:20].index.tolist()\n",
    "\n",
    "print(cats.Breed1.describe())\n",
    "plt.figure(figsize=(13,10))\n",
    "ax1 = sns.countplot(y='Breed1', palette = 'winter', \n",
    "              data=cats[cats['Breed1'].isin(top20_cat_breeds)])\n",
    "ax1.set(ylabel = 'Cat breeds')\n",
    "ax1.set_title('Top 20 cat breeds')\n",
    "plt.show()"
   ]
  },
  {
   "cell_type": "markdown",
   "metadata": {
    "_uuid": "c4a4add2e6b4339b24d00ca071abbc16cff03d9c"
   },
   "source": [
    "The most frequant cat breeds are all domestic breeds, Tabby, Siamese and Persian. \n",
    "Domestic Short hair is the most frequant cat breed."
   ]
  },
  {
   "cell_type": "code",
   "execution_count": 28,
   "metadata": {
    "_uuid": "7efec6ab953865aafe1c0fa1c0144995318666fb"
   },
   "outputs": [
    {
     "name": "stdout",
     "output_type": "stream",
     "text": [
      "count            8128\n",
      "unique            115\n",
      "top       Mixed Breed\n",
      "freq             5923\n",
      "Name: Breed1, dtype: object\n"
     ]
    },
    {
     "data": {
      "image/png": "[encoded data removed]",
      "text/plain": [
       "<Figure size 936x720 with 1 Axes>"
      ]
     },
     "metadata": {
      "needs_background": "light"
     },
     "output_type": "display_data"
    }
   ],
   "source": [
    "dogs = df[df['Type'] == 'Dog']\n",
    "top20_dog_breeds = dogs.Breed1.value_counts().sort_values(ascending = False).iloc[:20].index.tolist()\n",
    "\n",
    "print(dogs.Breed1.describe())\n",
    "plt.figure(figsize=(13,10))\n",
    "ax2 = sns.countplot(y='Breed1', palette = 'winter', \n",
    "              data=dogs[dogs['Breed1'].isin(top20_dog_breeds)])\n",
    "ax2.set(ylabel = 'Dog breeds')\n",
    "ax2.set_title('Top 20 dog breeds')\n",
    "\n",
    "plt.show()"
   ]
  },
  {
   "cell_type": "markdown",
   "metadata": {
    "_uuid": "897a2db4d73f69d0ecfd9c1ea98b3388674b1c56"
   },
   "source": [
    "Mixed Breed is the most frequant dog breed."
   ]
  },
  {
   "cell_type": "markdown",
   "metadata": {
    "_uuid": "75086f365ecd351e7cd2e07da6410ed3777fc7dc"
   },
   "source": [
    "#### Color1"
   ]
  },
  {
   "cell_type": "code",
   "execution_count": 29,
   "metadata": {
    "_uuid": "998a7239b61a54a380a382c0bfb8ff2e0d2a2964"
   },
   "outputs": [
    {
     "data": {
      "image/png": "[encoded data removed]",
      "text/plain": [
       "<Figure size 432x288 with 1 Axes>"
      ]
     },
     "metadata": {
      "needs_background": "light"
     },
     "output_type": "display_data"
    }
   ],
   "source": [
    "sns.countplot(y='Color1', palette = 'winter', data=df);"
   ]
  },
  {
   "cell_type": "markdown",
   "metadata": {
    "_uuid": "55568e8d051b5ab2bcdddf9299acfc7dd0a10848"
   },
   "source": [
    "Most animals primary color is black."
   ]
  },
  {
   "cell_type": "code",
   "execution_count": 30,
   "metadata": {
    "_uuid": "9c39c6785a3c90fbc81a7a76f5e8d2721e86a63e"
   },
   "outputs": [
    {
     "data": {
      "image/png": "[encoded data removed]",
      "text/plain": [
       "<Figure size 576x360 with 1 Axes>"
      ]
     },
     "metadata": {
      "needs_background": "light"
     },
     "output_type": "display_data"
    }
   ],
   "source": [
    "plt.figure(figsize=(8, 5))\n",
    "\n",
    "sns.boxplot(x=\"Color1\", y =df.AdoptionSpeed.astype(int), data=df, palette = 'winter');"
   ]
  },
  {
   "cell_type": "markdown",
   "metadata": {
    "_uuid": "abfbd8ba3df2e3f37916ed8f9845ef6a402ebc68"
   },
   "source": [
    "Cream, Gray, Golden and White colored animals are adopted faster.Those colors are more rare among animals, so dogs and cats of these colors  attract more attention. Also, those rare colors are likely to be more frequent among pure breed animals."
   ]
  },
  {
   "cell_type": "markdown",
   "metadata": {
    "_uuid": "46e4fd1cc0ab842dc2d90cbfed30a6d586ba63bd"
   },
   "source": [
    "#### Age"
   ]
  },
  {
   "cell_type": "code",
   "execution_count": 31,
   "metadata": {
    "_uuid": "afc7a6853a809120148ebaa8bea2777e897abdc4"
   },
   "outputs": [
    {
     "name": "stdout",
     "output_type": "stream",
     "text": [
      "count    14988.000000\n",
      "mean        10.450027\n",
      "std         18.151416\n",
      "min          0.000000\n",
      "25%          2.000000\n",
      "50%          3.000000\n",
      "75%         12.000000\n",
      "max        255.000000\n",
      "Name: Age, dtype: float64\n"
     ]
    },
    {
     "data": {
      "image/png": "[encoded data removed]",
      "text/plain": [
       "<Figure size 720x360 with 1 Axes>"
      ]
     },
     "metadata": {
      "needs_background": "light"
     },
     "output_type": "display_data"
    }
   ],
   "source": [
    "print(df.Age.describe())\n",
    "plt.figure(figsize=(10, 5))\n",
    "sns.distplot(df['Age'], kde = True);"
   ]
  },
  {
   "cell_type": "markdown",
   "metadata": {
    "_uuid": "a313e275930d77e2e1bb95eccfa72b8d81394640"
   },
   "source": [
    "75% of animals are aged 12 months and less. Distibution plot looks bad, so I'll create age bins."
   ]
  },
  {
   "cell_type": "code",
   "execution_count": 32,
   "metadata": {
    "_uuid": "7dd641a28f327eb717ce680c62efc566867fffbb"
   },
   "outputs": [],
   "source": [
    "age_bins = {\n",
    "        (0, 6): '0 to 5 months',\n",
    "        (6, 12): '6 to 11 months',\n",
    "        (12, 36): '1 to 2 years',\n",
    "        (36, 60): '3 to 4 years',\n",
    "        (60, 96): '5 to 7 years',\n",
    "        (96, np.inf): '8 and more years'}\n",
    "\n",
    "df['Age_bins'] = None\n",
    "for age_inter in age_bins.keys():\n",
    "    df.loc[(age_inter[0] <= df['Age']) & (df['Age'] < age_inter[1]), \n",
    "           ['Age_bins']] = age_bins[age_inter]\n"
   ]
  },
  {
   "cell_type": "code",
   "execution_count": 33,
   "metadata": {
    "_uuid": "e18073dcc14f20f7da5c5c0f49d29d1f2048a4fa"
   },
   "outputs": [
    {
     "data": {
      "image/png": "[encoded data removed]",
      "text/plain": [
       "<Figure size 1224x504 with 2 Axes>"
      ]
     },
     "metadata": {
      "needs_background": "light"
     },
     "output_type": "display_data"
    }
   ],
   "source": [
    "fig, axs = plt.subplots(ncols=2,figsize=(17,7))\n",
    "\n",
    "ax1 = sns.countplot(x='Age_bins', palette = 'winter', data=df, ax=axs[0]);\n",
    "plt.sca(ax1)\n",
    "plt.xticks(rotation=45)\n",
    "ax2 = sns.boxplot(x='Age_bins', y = df.AdoptionSpeed.astype(int), palette = 'winter', data=df, ax=axs[1]);\n",
    "plt.sca(ax2)\n",
    "plt.xticks(rotation=45);"
   ]
  },
  {
   "cell_type": "markdown",
   "metadata": {
    "_uuid": "b0114e2778c67742d061e63e0f27550cc750c850"
   },
   "source": [
    "Most animals are less than 6 months old. Kittens and puppies are adopted faster than adult animals."
   ]
  },
  {
   "cell_type": "markdown",
   "metadata": {
    "_uuid": "08b5654586375d921a02db994b7cec9a087a719b"
   },
   "source": [
    "### MaturitySize "
   ]
  },
  {
   "cell_type": "code",
   "execution_count": 34,
   "metadata": {
    "_uuid": "149233e73af7c679852db50b86fd5c4b6f2da92d"
   },
   "outputs": [
    {
     "name": "stdout",
     "output_type": "stream",
     "text": [
      "count      14988\n",
      "unique         4\n",
      "top       Medium\n",
      "freq       10302\n",
      "Name: MaturitySize, dtype: object\n"
     ]
    },
    {
     "data": {
      "image/png": "[encoded data removed]",
      "text/plain": [
       "<Figure size 1440x504 with 2 Axes>"
      ]
     },
     "metadata": {
      "needs_background": "light"
     },
     "output_type": "display_data"
    }
   ],
   "source": [
    "print(df.MaturitySize.describe())\n",
    "fig, axs = plt.subplots(ncols=2,figsize=(20,7))\n",
    "sns.countplot(x='MaturitySize', hue = 'Type',  palette = 'winter', data=df, ax=axs[0]);\n",
    "sns.boxplot(x='Type', y = df.AdoptionSpeed.astype(int),hue = 'MaturitySize', palette = 'winter', data=df, ax=axs[1]);\n",
    "plt.show()"
   ]
  },
  {
   "cell_type": "markdown",
   "metadata": {
    "_uuid": "288347a17e962d3be195f827258344ac6c35267e"
   },
   "source": [
    "Most dogs and cats are medium. There are few extra large animals to say that extra large animals are adopted faster or slower. For cats size does not really matter. Small dogs are adopted faster than medium ones."
   ]
  },
  {
   "cell_type": "markdown",
   "metadata": {
    "_uuid": "ae0a0cd70bb66c6ba282112a937a5525af2fd574"
   },
   "source": [
    "### FurLength"
   ]
  },
  {
   "cell_type": "code",
   "execution_count": 35,
   "metadata": {
    "_uuid": "67df6bebf6e831a15a2868288d9ecd638c52d9c5"
   },
   "outputs": [
    {
     "name": "stdout",
     "output_type": "stream",
     "text": [
      "count     14988\n",
      "unique        3\n",
      "top       Short\n",
      "freq       8804\n",
      "Name: FurLength, dtype: object\n"
     ]
    },
    {
     "data": {
      "image/png": "[encoded data removed]",
      "text/plain": [
       "<Figure size 1440x504 with 2 Axes>"
      ]
     },
     "metadata": {
      "needs_background": "light"
     },
     "output_type": "display_data"
    }
   ],
   "source": [
    "print(df.FurLength.describe())\n",
    "fig, axs = plt.subplots(ncols=2,figsize=(20,7))\n",
    "sns.countplot(x='FurLength', hue = 'Type',  palette = 'winter', data=df, ax=axs[0]);\n",
    "sns.boxplot(x='Type', y = df.AdoptionSpeed.astype(int),hue = 'FurLength', palette = 'winter', data=df, ax=axs[1]);\n",
    "plt.show()"
   ]
  },
  {
   "cell_type": "markdown",
   "metadata": {
    "_uuid": "079ae0dc7ced706fccb4964ccad34a2bcdee3eeb"
   },
   "source": [
    "Most animals fur is short or medium-length. Long fur is not as common as short and medium one, so I doubt fur length is important."
   ]
  },
  {
   "cell_type": "markdown",
   "metadata": {
    "_uuid": "f8f47c8a216555009acfdeff5ac10b4091bdcfa5"
   },
   "source": [
    "#### Vaccinated, Dewormed, Sterilized"
   ]
  },
  {
   "cell_type": "code",
   "execution_count": 36,
   "metadata": {
    "_uuid": "ee42c26bc5d14dccbea2573aef7b26063d910b8b"
   },
   "outputs": [
    {
     "data": {
      "text/plain": [
       "count     14988\n",
       "unique        3\n",
       "top          No\n",
       "freq       7224\n",
       "Name: Vaccinated, dtype: object"
      ]
     },
     "execution_count": 36,
     "metadata": {},
     "output_type": "execute_result"
    }
   ],
   "source": [
    "df.Vaccinated.describe()"
   ]
  },
  {
   "cell_type": "code",
   "execution_count": 37,
   "metadata": {
    "_uuid": "75a26e366729ad5e1fdbf58b5ad4e920e31a5359"
   },
   "outputs": [
    {
     "data": {
      "text/plain": [
       "count     14988\n",
       "unique        3\n",
       "top         Yes\n",
       "freq       8394\n",
       "Name: Dewormed, dtype: object"
      ]
     },
     "execution_count": 37,
     "metadata": {},
     "output_type": "execute_result"
    }
   ],
   "source": [
    "df.Dewormed.describe()"
   ]
  },
  {
   "cell_type": "code",
   "execution_count": 38,
   "metadata": {
    "_uuid": "206336237c589e5b8a787e3db88a8a9e658c8555"
   },
   "outputs": [
    {
     "data": {
      "text/plain": [
       "count     14988\n",
       "unique        3\n",
       "top          No\n",
       "freq      10072\n",
       "Name: Sterilized, dtype: object"
      ]
     },
     "execution_count": 38,
     "metadata": {},
     "output_type": "execute_result"
    }
   ],
   "source": [
    "df.Sterilized.describe()"
   ]
  },
  {
   "cell_type": "code",
   "execution_count": 39,
   "metadata": {
    "_uuid": "0109921453b09bed8383c1729b3c08e894f77824"
   },
   "outputs": [
    {
     "data": {
      "image/png": "[encoded data removed]",
      "text/plain": [
       "<Figure size 1440x1440 with 6 Axes>"
      ]
     },
     "metadata": {
      "needs_background": "light"
     },
     "output_type": "display_data"
    }
   ],
   "source": [
    "fig, axs = plt.subplots(ncols=2, nrows=3, figsize=(20,20))\n",
    "sns.countplot(x='Vaccinated', palette = 'winter', data=df, ax=axs[0, 0]);\n",
    "sns.boxplot(x='Vaccinated', y = df.AdoptionSpeed.astype(int), palette = 'winter', data=df, ax=axs[0,1]);\n",
    "sns.countplot(x='Dewormed', palette = 'winter', data=df, ax=axs[1, 0]);\n",
    "sns.boxplot(x='Dewormed', y = df.AdoptionSpeed.astype(int), palette = 'winter', data=df, ax=axs[1,1]);\n",
    "sns.countplot(x='Sterilized', palette = 'winter', data=df, ax=axs[2, 0]);\n",
    "sns.boxplot(x='Sterilized', y = df.AdoptionSpeed.astype(int), palette = 'winter', data=df, ax=axs[2,1]);"
   ]
  },
  {
   "cell_type": "markdown",
   "metadata": {
    "_uuid": "aa5287fa8cd7eec55358e8a50c5c33aee9f02aa2"
   },
   "source": [
    "Looks like all these things make adoption period longer. Maybe there are some connections between age of the animal and those features - very young animals are not vaccinated, dewormed or sterilized. "
   ]
  },
  {
   "cell_type": "code",
   "execution_count": 40,
   "metadata": {
    "_uuid": "9ef2f76bd9d5ed3265fa68160318428e566d6c8c"
   },
   "outputs": [
    {
     "data": {
      "image/png": "[encoded data removed]",
      "text/plain": [
       "<Figure size 1440x1440 with 3 Axes>"
      ]
     },
     "metadata": {
      "needs_background": "light"
     },
     "output_type": "display_data"
    }
   ],
   "source": [
    "fig, axs = plt.subplots(ncols=1, nrows=3, figsize=(20,20))\n",
    "sns.countplot(x='Vaccinated', hue='Age_bins',  palette = 'winter', data=df, ax=axs[0]);\n",
    "sns.countplot(x='Dewormed',hue='Age_bins',  palette = 'winter', data=df, ax=axs[1]);\n",
    "sns.countplot(x='Sterilized', hue='Age_bins', palette = 'winter', data=df, ax=axs[2]);"
   ]
  },
  {
   "cell_type": "markdown",
   "metadata": {
    "_uuid": "7b3ddae9ba2f049aa0da914a2ceda34869ff25d8"
   },
   "source": [
    "Most animals less than 6 months old are not vaccinated or sterilized."
   ]
  },
  {
   "cell_type": "markdown",
   "metadata": {
    "_uuid": "db7122aa7af4580b2a60625a4de4d430e1c8361c"
   },
   "source": [
    "#### Health"
   ]
  },
  {
   "cell_type": "code",
   "execution_count": 41,
   "metadata": {
    "_uuid": "0891714ddf05163486b6cc3dca6e11f413bc151f"
   },
   "outputs": [
    {
     "name": "stdout",
     "output_type": "stream",
     "text": [
      "count       14988\n",
      "unique          3\n",
      "top       Healthy\n",
      "freq        14473\n",
      "Name: Health, dtype: object\n"
     ]
    },
    {
     "data": {
      "image/png": "[encoded data removed]",
      "text/plain": [
       "<Figure size 1440x504 with 2 Axes>"
      ]
     },
     "metadata": {
      "needs_background": "light"
     },
     "output_type": "display_data"
    }
   ],
   "source": [
    "print(df.Health.describe())\n",
    "fig, axs = plt.subplots(ncols=2,figsize=(20,7))\n",
    "sns.countplot(x='Health',  palette = 'winter', data=df, ax=axs[0]);\n",
    "sns.boxplot(x='Health', y = df.AdoptionSpeed.astype(int), palette = 'winter', data=df, ax=axs[1]);\n",
    "plt.show()"
   ]
  },
  {
   "cell_type": "markdown",
   "metadata": {
    "_uuid": "30e2ed74308cea8c81471c42191f11cd78ca4776"
   },
   "source": [
    "Almost all animals are healthy (14473 out of 14988)."
   ]
  },
  {
   "cell_type": "markdown",
   "metadata": {
    "_uuid": "1b5847ba158c6463ad7fd0bf4fd197d6163068e4"
   },
   "source": [
    "#### Quantity "
   ]
  },
  {
   "cell_type": "code",
   "execution_count": 42,
   "metadata": {
    "_uuid": "2fde2a27bf24a28c41058c2b640b5e107e42be42"
   },
   "outputs": [
    {
     "name": "stdout",
     "output_type": "stream",
     "text": [
      "count    14988.000000\n",
      "mean         1.576128\n",
      "std          1.472647\n",
      "min          1.000000\n",
      "25%          1.000000\n",
      "50%          1.000000\n",
      "75%          1.000000\n",
      "max         20.000000\n",
      "Name: Quantity, dtype: float64\n"
     ]
    },
    {
     "data": {
      "image/png": "[encoded data removed]",
      "text/plain": [
       "<Figure size 936x360 with 2 Axes>"
      ]
     },
     "metadata": {
      "needs_background": "light"
     },
     "output_type": "display_data"
    }
   ],
   "source": [
    "print(df.Quantity.describe())\n",
    "fig, axs = plt.subplots(ncols=2,figsize=(13,5))\n",
    "sns.countplot(x='Quantity',  palette = 'winter', data=df, ax=axs[0]);\n",
    "sns.stripplot(x='Quantity', y = df['AdoptionSpeed'].astype(int), data =df, palette = 'winter',ax=axs[1])\n",
    "plt.show()"
   ]
  },
  {
   "cell_type": "markdown",
   "metadata": {
    "_uuid": "6472e19ee03d8d131d1ac404b0834fc20bc8fd69"
   },
   "source": [
    "Large number of animals is likely to have worse AdoptionSpeed."
   ]
  },
  {
   "cell_type": "markdown",
   "metadata": {
    "_uuid": "f064bf6c9edcf1fa3e622f9604c2bd0aacb076b3"
   },
   "source": [
    "#### Fee"
   ]
  },
  {
   "cell_type": "code",
   "execution_count": 43,
   "metadata": {
    "_uuid": "c0d43bc8a5276e5413f6845a727c31acb9eb78d0"
   },
   "outputs": [
    {
     "name": "stdout",
     "output_type": "stream",
     "text": [
      "count    14988.000000\n",
      "mean        21.260342\n",
      "std         78.424238\n",
      "min          0.000000\n",
      "25%          0.000000\n",
      "50%          0.000000\n",
      "75%          0.000000\n",
      "max       3000.000000\n",
      "Name: Fee, dtype: float64\n"
     ]
    },
    {
     "data": {
      "image/png": "[encoded data removed]",
      "text/plain": [
       "<Figure size 936x360 with 2 Axes>"
      ]
     },
     "metadata": {
      "needs_background": "light"
     },
     "output_type": "display_data"
    }
   ],
   "source": [
    "print(df.Fee.describe())\n",
    "fig, axs = plt.subplots(ncols=2, nrows =1,figsize=(13,5))\n",
    "sns.distplot(df['Fee'],  color = 'blue', kde = False, ax=axs[0]);\n",
    "sns.catplot(y='Fee', x = 'AdoptionSpeed', data =df, palette = 'winter', kind = 'strip',ax=axs[1]);\n",
    "plt.close(2)\n",
    "plt.show()"
   ]
  },
  {
   "cell_type": "markdown",
   "metadata": {
    "_uuid": "ed2ec1a3a09e940f3fc07ace0bb53d6c76ccaf51"
   },
   "source": [
    "Looks like there are 2 outliers, let's look at them and remove than."
   ]
  },
  {
   "cell_type": "code",
   "execution_count": 44,
   "metadata": {
    "_uuid": "567d77fd32e13c9d0a59feb5b6903de4cff2e460",
    "scrolled": true
   },
   "outputs": [
    {
     "data": {
      "text/html": [
       "<div>\n",
       "<style scoped>\n",
       "    .dataframe tbody tr th:only-of-type {\n",
       "        vertical-align: middle;\n",
       "    }\n",
       "\n",
       "    .dataframe tbody tr th {\n",
       "        vertical-align: top;\n",
       "    }\n",
       "\n",
       "    .dataframe thead th {\n",
       "        text-align: right;\n",
       "    }\n",
       "</style>\n",
       "<table border=\"1\" class=\"dataframe\">\n",
       "  <thead>\n",
       "    <tr style=\"text-align: right;\">\n",
       "      <th></th>\n",
       "      <th>Type</th>\n",
       "      <th>Name</th>\n",
       "      <th>Age</th>\n",
       "      <th>Breed1</th>\n",
       "      <th>Breed2</th>\n",
       "      <th>Gender</th>\n",
       "      <th>Color1</th>\n",
       "      <th>Color2</th>\n",
       "      <th>Color3</th>\n",
       "      <th>MaturitySize</th>\n",
       "      <th>FurLength</th>\n",
       "      <th>Vaccinated</th>\n",
       "      <th>Dewormed</th>\n",
       "      <th>Sterilized</th>\n",
       "      <th>Health</th>\n",
       "      <th>Quantity</th>\n",
       "      <th>Fee</th>\n",
       "      <th>State</th>\n",
       "      <th>RescuerID</th>\n",
       "      <th>VideoAmt</th>\n",
       "      <th>Description</th>\n",
       "      <th>PhotoAmt</th>\n",
       "      <th>AdoptionSpeed</th>\n",
       "      <th>Age_bins</th>\n",
       "    </tr>\n",
       "    <tr>\n",
       "      <th>PetID</th>\n",
       "      <th></th>\n",
       "      <th></th>\n",
       "      <th></th>\n",
       "      <th></th>\n",
       "      <th></th>\n",
       "      <th></th>\n",
       "      <th></th>\n",
       "      <th></th>\n",
       "      <th></th>\n",
       "      <th></th>\n",
       "      <th></th>\n",
       "      <th></th>\n",
       "      <th></th>\n",
       "      <th></th>\n",
       "      <th></th>\n",
       "      <th></th>\n",
       "      <th></th>\n",
       "      <th></th>\n",
       "      <th></th>\n",
       "      <th></th>\n",
       "      <th></th>\n",
       "      <th></th>\n",
       "      <th></th>\n",
       "      <th></th>\n",
       "    </tr>\n",
       "  </thead>\n",
       "  <tbody>\n",
       "    <tr>\n",
       "      <th>e74dd0579</th>\n",
       "      <td>Dog</td>\n",
       "      <td>Khaleesi And Drogo</td>\n",
       "      <td>4</td>\n",
       "      <td>German Shepherd Dog</td>\n",
       "      <td>NaN</td>\n",
       "      <td>Mixed (group of pets)</td>\n",
       "      <td>Black</td>\n",
       "      <td>Brown</td>\n",
       "      <td>NaN</td>\n",
       "      <td>Large</td>\n",
       "      <td>Medium</td>\n",
       "      <td>Yes</td>\n",
       "      <td>Yes</td>\n",
       "      <td>Not Sure</td>\n",
       "      <td>Healthy</td>\n",
       "      <td>2</td>\n",
       "      <td>3000</td>\n",
       "      <td>Kedah</td>\n",
       "      <td>39d5c79a7422fa53b8fdeaec67b3dbda</td>\n",
       "      <td>0</td>\n",
       "      <td>Both pups are family home trained. They love t...</td>\n",
       "      <td>5.0</td>\n",
       "      <td>3</td>\n",
       "      <td>0 to 5 months</td>\n",
       "    </tr>\n",
       "    <tr>\n",
       "      <th>31a77d7ba</th>\n",
       "      <td>Dog</td>\n",
       "      <td>Bull Dog</td>\n",
       "      <td>24</td>\n",
       "      <td>English Bulldog</td>\n",
       "      <td>NaN</td>\n",
       "      <td>Male</td>\n",
       "      <td>Brown</td>\n",
       "      <td>Cream</td>\n",
       "      <td>White</td>\n",
       "      <td>Medium</td>\n",
       "      <td>Short</td>\n",
       "      <td>Not Sure</td>\n",
       "      <td>Not Sure</td>\n",
       "      <td>Not Sure</td>\n",
       "      <td>Healthy</td>\n",
       "      <td>1</td>\n",
       "      <td>2000</td>\n",
       "      <td>Kuala Lumpur</td>\n",
       "      <td>a1c7a4f20bb936fcb8d97039741c40be</td>\n",
       "      <td>0</td>\n",
       "      <td>Found this bull dog near my neighbourhood for ...</td>\n",
       "      <td>3.0</td>\n",
       "      <td>1</td>\n",
       "      <td>1 to 2 years</td>\n",
       "    </tr>\n",
       "  </tbody>\n",
       "</table>\n",
       "</div>"
      ],
      "text/plain": [
       "          Type                Name  Age               Breed1 Breed2  \\\n",
       "PetID                                                                 \n",
       "e74dd0579  Dog  Khaleesi And Drogo    4  German Shepherd Dog    NaN   \n",
       "31a77d7ba  Dog            Bull Dog   24      English Bulldog    NaN   \n",
       "\n",
       "                          Gender Color1 Color2 Color3 MaturitySize FurLength  \\\n",
       "PetID                                                                          \n",
       "e74dd0579  Mixed (group of pets)  Black  Brown    NaN        Large    Medium   \n",
       "31a77d7ba                   Male  Brown  Cream  White       Medium     Short   \n",
       "\n",
       "          Vaccinated  Dewormed Sterilized   Health  Quantity   Fee  \\\n",
       "PetID                                                                \n",
       "e74dd0579        Yes       Yes   Not Sure  Healthy         2  3000   \n",
       "31a77d7ba   Not Sure  Not Sure   Not Sure  Healthy         1  2000   \n",
       "\n",
       "                  State                         RescuerID  VideoAmt  \\\n",
       "PetID                                                                 \n",
       "e74dd0579         Kedah  39d5c79a7422fa53b8fdeaec67b3dbda         0   \n",
       "31a77d7ba  Kuala Lumpur  a1c7a4f20bb936fcb8d97039741c40be         0   \n",
       "\n",
       "                                                 Description  PhotoAmt  \\\n",
       "PetID                                                                    \n",
       "e74dd0579  Both pups are family home trained. They love t...       5.0   \n",
       "31a77d7ba  Found this bull dog near my neighbourhood for ...       3.0   \n",
       "\n",
       "          AdoptionSpeed       Age_bins  \n",
       "PetID                                   \n",
       "e74dd0579             3  0 to 5 months  \n",
       "31a77d7ba             1   1 to 2 years  "
      ]
     },
     "execution_count": 44,
     "metadata": {},
     "output_type": "execute_result"
    }
   ],
   "source": [
    "fee_outliers_IDs = list(df[df['Fee'] > 1500].index)\n",
    "df[df.index.isin(fee_outliers_IDs)]"
   ]
  },
  {
   "cell_type": "code",
   "execution_count": 45,
   "metadata": {
    "_uuid": "41dce3c345286237aadc5980bb3f6b64be39d5cc"
   },
   "outputs": [],
   "source": [
    "# removing outliers\n",
    "df.drop(fee_outliers_IDs, axis =0, inplace=True)"
   ]
  },
  {
   "cell_type": "markdown",
   "metadata": {
    "_uuid": "d1ffda24024fba0d26f1ee379dc9fb2d598350b2"
   },
   "source": [
    "Let's look on these plots one more time after outliers removal."
   ]
  },
  {
   "cell_type": "code",
   "execution_count": 46,
   "metadata": {
    "_uuid": "509b849ae204dd19b7c2dcbf74622748048a2606"
   },
   "outputs": [
    {
     "name": "stdout",
     "output_type": "stream",
     "text": [
      "count    14986.000000\n",
      "mean        20.929534\n",
      "std         72.785066\n",
      "min          0.000000\n",
      "25%          0.000000\n",
      "50%          0.000000\n",
      "75%          0.000000\n",
      "max       1000.000000\n",
      "Name: Fee, dtype: float64\n"
     ]
    },
    {
     "data": {
      "image/png": "[encoded data removed]",
      "text/plain": [
       "<Figure size 936x360 with 2 Axes>"
      ]
     },
     "metadata": {
      "needs_background": "light"
     },
     "output_type": "display_data"
    }
   ],
   "source": [
    "print(df.Fee.describe())\n",
    "fig, axs = plt.subplots(ncols=2, nrows =1,figsize=(13,5))\n",
    "sns.distplot(df['Fee'],  color = 'blue', kde = False, ax=axs[0]);\n",
    "sns.catplot(y='Fee', x = 'AdoptionSpeed', data =df, palette = 'winter', kind = 'strip',ax=axs[1]);\n",
    "plt.close(2)\n",
    "plt.show()"
   ]
  },
  {
   "cell_type": "markdown",
   "metadata": {
    "_uuid": "370dd774a6bb650063fa55a52d8ae46dc29e3667"
   },
   "source": [
    "Nothing special."
   ]
  },
  {
   "cell_type": "markdown",
   "metadata": {
    "_uuid": "4be34fac042256e9699b0c636e0c6a1f9562065e"
   },
   "source": [
    "#### State"
   ]
  },
  {
   "cell_type": "code",
   "execution_count": 47,
   "metadata": {
    "_uuid": "c6ea07c83957a71b665e39cde95c79e483df8933"
   },
   "outputs": [
    {
     "data": {
      "image/png": "[encoded data removed]",
      "text/plain": [
       "<Figure size 936x360 with 1 Axes>"
      ]
     },
     "metadata": {
      "needs_background": "light"
     },
     "output_type": "display_data"
    }
   ],
   "source": [
    "df.State.describe()\n",
    "# fig, axs = plt.subplots(ncols=1, nrows =2,figsize=(13,17))\n",
    "plt.figure(figsize=(13, 5))\n",
    "ax1=sns.countplot(x='State',  palette = 'winter', data=df);\n",
    "# plt.sca(ax1)\n",
    "plt.xticks(rotation=45)\n",
    "# ax2=sns.catplot(y='State', x = 'AdoptionSpeed', data =df, palette = 'winter', kind = 'box',ax = axs[1]);\n",
    "# plt.close(2);\n",
    "plt.show()"
   ]
  },
  {
   "cell_type": "code",
   "execution_count": 48,
   "metadata": {
    "_uuid": "24e5389b6c686ba19025ae5f1521a4d0e35c3dbf"
   },
   "outputs": [
    {
     "data": {
      "image/png": "[encoded data removed]",
      "text/plain": [
       "<Figure size 360x360 with 1 Axes>"
      ]
     },
     "metadata": {
      "needs_background": "light"
     },
     "output_type": "display_data"
    }
   ],
   "source": [
    "sns.catplot(y='State', x = 'AdoptionSpeed', data =df, palette = 'winter', kind = 'box');"
   ]
  },
  {
   "cell_type": "markdown",
   "metadata": {
    "_uuid": "d48cc47ce3247f46beebabf6a576510beaff61ee"
   },
   "source": [
    "#### RescuerID"
   ]
  },
  {
   "cell_type": "code",
   "execution_count": 49,
   "metadata": {
    "_uuid": "0926815091f3e1b2771be84183c0a9f2a8b8e4c9"
   },
   "outputs": [
    {
     "data": {
      "text/plain": [
       "count                                14986\n",
       "unique                                5591\n",
       "top       fa90fa5b1ee11c86938398b60abc32cb\n",
       "freq                                   459\n",
       "Name: RescuerID, dtype: object"
      ]
     },
     "execution_count": 49,
     "metadata": {},
     "output_type": "execute_result"
    }
   ],
   "source": [
    "df.RescuerID.describe()"
   ]
  },
  {
   "cell_type": "markdown",
   "metadata": {
    "_uuid": "5bb6e4c3b0e666f9b4b4639eaf292d29f5e34592"
   },
   "source": [
    "Let's look on the number of rescued animals for each ResquerID"
   ]
  },
  {
   "cell_type": "code",
   "execution_count": 50,
   "metadata": {
    "_uuid": "aa052f6ef11fdd0622f22ea780fd43d972cbedc6"
   },
   "outputs": [
    {
     "data": {
      "text/html": [
       "<div>\n",
       "<style scoped>\n",
       "    .dataframe tbody tr th:only-of-type {\n",
       "        vertical-align: middle;\n",
       "    }\n",
       "\n",
       "    .dataframe tbody tr th {\n",
       "        vertical-align: top;\n",
       "    }\n",
       "\n",
       "    .dataframe thead th {\n",
       "        text-align: right;\n",
       "    }\n",
       "</style>\n",
       "<table border=\"1\" class=\"dataframe\">\n",
       "  <thead>\n",
       "    <tr style=\"text-align: right;\">\n",
       "      <th></th>\n",
       "      <th>RescuerID</th>\n",
       "      <th>Number of rescued animals</th>\n",
       "    </tr>\n",
       "  </thead>\n",
       "  <tbody>\n",
       "    <tr>\n",
       "      <th>0</th>\n",
       "      <td>fa90fa5b1ee11c86938398b60abc32cb</td>\n",
       "      <td>459</td>\n",
       "    </tr>\n",
       "    <tr>\n",
       "      <th>1</th>\n",
       "      <td>aa66486163b6cbc25ea62a34b11c9b91</td>\n",
       "      <td>315</td>\n",
       "    </tr>\n",
       "    <tr>\n",
       "      <th>2</th>\n",
       "      <td>c00756f2bdd8fa88fc9f07a8309f7d5d</td>\n",
       "      <td>231</td>\n",
       "    </tr>\n",
       "    <tr>\n",
       "      <th>3</th>\n",
       "      <td>b53c34474d9e24574bcec6a3d3306a0d</td>\n",
       "      <td>228</td>\n",
       "    </tr>\n",
       "    <tr>\n",
       "      <th>4</th>\n",
       "      <td>ee2747ce26468ec44c7194e7d1d9dad9</td>\n",
       "      <td>156</td>\n",
       "    </tr>\n",
       "  </tbody>\n",
       "</table>\n",
       "</div>"
      ],
      "text/plain": [
       "                          RescuerID  Number of rescued animals\n",
       "0  fa90fa5b1ee11c86938398b60abc32cb                        459\n",
       "1  aa66486163b6cbc25ea62a34b11c9b91                        315\n",
       "2  c00756f2bdd8fa88fc9f07a8309f7d5d                        231\n",
       "3  b53c34474d9e24574bcec6a3d3306a0d                        228\n",
       "4  ee2747ce26468ec44c7194e7d1d9dad9                        156"
      ]
     },
     "execution_count": 50,
     "metadata": {},
     "output_type": "execute_result"
    }
   ],
   "source": [
    "rescuers = pd.DataFrame(df.RescuerID.value_counts()).reset_index()\n",
    "rescuers.columns = ['RescuerID', 'Number of rescued animals']\n",
    "rescuers.head()"
   ]
  },
  {
   "cell_type": "code",
   "execution_count": 51,
   "metadata": {
    "_uuid": "b84064b669d4e506e0d284ba2d0a36a139908505"
   },
   "outputs": [
    {
     "data": {
      "text/plain": [
       "count    5591.000000\n",
       "mean        2.680379\n",
       "std        10.388189\n",
       "min         1.000000\n",
       "25%         1.000000\n",
       "50%         1.000000\n",
       "75%         2.000000\n",
       "max       459.000000\n",
       "Name: Number of rescued animals, dtype: float64"
      ]
     },
     "execution_count": 51,
     "metadata": {},
     "output_type": "execute_result"
    }
   ],
   "source": [
    "rescuers['Number of rescued animals'].describe()"
   ]
  },
  {
   "cell_type": "markdown",
   "metadata": {
    "_uuid": "c06d6b389581f5d0aad351b931169ef582852c4d"
   },
   "source": [
    "At least 75% percent of resquers saved 2 and less animals only. "
   ]
  },
  {
   "cell_type": "code",
   "execution_count": 52,
   "metadata": {
    "_uuid": "8c84813e77d170f61183acf46d224dd2a3dc4f83"
   },
   "outputs": [
    {
     "data": {
      "text/plain": [
       "Index(['RescuerID', 'Number of rescued animals'], dtype='object')"
      ]
     },
     "execution_count": 52,
     "metadata": {},
     "output_type": "execute_result"
    }
   ],
   "source": [
    "rescuers.columns"
   ]
  },
  {
   "cell_type": "code",
   "execution_count": 53,
   "metadata": {
    "_uuid": "a6bd1326721efa170706dca7fcb31f0486cef318"
   },
   "outputs": [],
   "source": [
    "df['RescuerNumber'] = df['RescuerID'].map(dict(zip(rescuers.RescuerID,\n",
    "                                                  rescuers['Number of rescued animals'])))"
   ]
  },
  {
   "cell_type": "code",
   "execution_count": 54,
   "metadata": {
    "_uuid": "5af07636f056a5c16dc2bfc745c0e02e0f363919"
   },
   "outputs": [
    {
     "data": {
      "text/plain": [
       "count    14986.000000\n",
       "mean        42.934072\n",
       "std         96.501305\n",
       "min          1.000000\n",
       "25%          1.000000\n",
       "50%          5.000000\n",
       "75%         28.000000\n",
       "max        459.000000\n",
       "Name: RescuerNumber, dtype: float64"
      ]
     },
     "execution_count": 54,
     "metadata": {},
     "output_type": "execute_result"
    }
   ],
   "source": [
    "df['RescuerNumber'].describe()"
   ]
  },
  {
   "cell_type": "code",
   "execution_count": 55,
   "metadata": {
    "_uuid": "092d719e914a66c07cd67fb66784ba131be1ff27"
   },
   "outputs": [
    {
     "data": {
      "image/png": "[encoded data removed]",
      "text/plain": [
       "<Figure size 432x288 with 1 Axes>"
      ]
     },
     "metadata": {
      "needs_background": "light"
     },
     "output_type": "display_data"
    }
   ],
   "source": [
    "sns.distplot(df['RescuerNumber'], kde = False, bins = 30);"
   ]
  },
  {
   "cell_type": "markdown",
   "metadata": {
    "_uuid": "e01b5ad9ed296d7410209f7fa4080736df17a59b"
   },
   "source": [
    "#### VideoAmt and PhotoAmt"
   ]
  },
  {
   "cell_type": "code",
   "execution_count": 56,
   "metadata": {
    "_uuid": "86d10422eb2c7f69f34c7bda8e23ad8755a6a3fd"
   },
   "outputs": [
    {
     "name": "stdout",
     "output_type": "stream",
     "text": [
      "count    14986.000000\n",
      "mean         0.056786\n",
      "std          0.346263\n",
      "min          0.000000\n",
      "25%          0.000000\n",
      "50%          0.000000\n",
      "75%          0.000000\n",
      "max          8.000000\n",
      "Name: VideoAmt, dtype: float64\n"
     ]
    }
   ],
   "source": [
    "print(df['VideoAmt'].describe())"
   ]
  },
  {
   "cell_type": "code",
   "execution_count": 57,
   "metadata": {
    "_uuid": "17ca3dbb317edbdaee7a322647aae53bbc5a3d97"
   },
   "outputs": [
    {
     "name": "stdout",
     "output_type": "stream",
     "text": [
      "96.17% of pets don't have videos\n"
     ]
    }
   ],
   "source": [
    "print(\"{0:.2%} of pets don't have videos\".format(\n",
    "    df[df['VideoAmt'] == 0].shape[0] / float(df.shape[0])))"
   ]
  },
  {
   "cell_type": "code",
   "execution_count": 58,
   "metadata": {
    "_uuid": "c770e70215b1dcfdea45eb39adc9dbeca15ad788"
   },
   "outputs": [
    {
     "name": "stdout",
     "output_type": "stream",
     "text": [
      "count    14986.000000\n",
      "mean         3.888896\n",
      "std          3.487946\n",
      "min          0.000000\n",
      "25%          2.000000\n",
      "50%          3.000000\n",
      "75%          5.000000\n",
      "max         30.000000\n",
      "Name: PhotoAmt, dtype: float64\n"
     ]
    },
    {
     "data": {
      "image/png": "[encoded data removed]",
      "text/plain": [
       "<Figure size 720x360 with 1 Axes>"
      ]
     },
     "metadata": {
      "needs_background": "light"
     },
     "output_type": "display_data"
    }
   ],
   "source": [
    "print(df['PhotoAmt'].describe())\n",
    "plt.figure(figsize=(10, 5))\n",
    "sns.countplot(df['PhotoAmt'].astype(int), palette='winter_r');"
   ]
  },
  {
   "cell_type": "markdown",
   "metadata": {
    "_uuid": "51c51e060c25b40d65109cfc5d4444334d9d9c23"
   },
   "source": [
    "Most animals have from 1 to 5 photos."
   ]
  },
  {
   "cell_type": "markdown",
   "metadata": {},
   "source": [
    "# 2. Feature Engineering"
   ]
  },
  {
   "cell_type": "code",
   "execution_count": 59,
   "metadata": {},
   "outputs": [
    {
     "data": {
      "text/html": [
       "<div>\n",
       "<style scoped>\n",
       "    .dataframe tbody tr th:only-of-type {\n",
       "        vertical-align: middle;\n",
       "    }\n",
       "\n",
       "    .dataframe tbody tr th {\n",
       "        vertical-align: top;\n",
       "    }\n",
       "\n",
       "    .dataframe thead th {\n",
       "        text-align: right;\n",
       "    }\n",
       "</style>\n",
       "<table border=\"1\" class=\"dataframe\">\n",
       "  <thead>\n",
       "    <tr style=\"text-align: right;\">\n",
       "      <th></th>\n",
       "      <th>Type</th>\n",
       "      <th>Name</th>\n",
       "      <th>Age</th>\n",
       "      <th>Breed1</th>\n",
       "      <th>Breed2</th>\n",
       "      <th>Gender</th>\n",
       "      <th>Color1</th>\n",
       "      <th>Color2</th>\n",
       "      <th>Color3</th>\n",
       "      <th>MaturitySize</th>\n",
       "      <th>FurLength</th>\n",
       "      <th>Vaccinated</th>\n",
       "      <th>Dewormed</th>\n",
       "      <th>Sterilized</th>\n",
       "      <th>Health</th>\n",
       "      <th>Quantity</th>\n",
       "      <th>Fee</th>\n",
       "      <th>State</th>\n",
       "      <th>RescuerID</th>\n",
       "      <th>VideoAmt</th>\n",
       "      <th>Description</th>\n",
       "      <th>PhotoAmt</th>\n",
       "      <th>AdoptionSpeed</th>\n",
       "      <th>Age_bins</th>\n",
       "      <th>RescuerNumber</th>\n",
       "    </tr>\n",
       "    <tr>\n",
       "      <th>PetID</th>\n",
       "      <th></th>\n",
       "      <th></th>\n",
       "      <th></th>\n",
       "      <th></th>\n",
       "      <th></th>\n",
       "      <th></th>\n",
       "      <th></th>\n",
       "      <th></th>\n",
       "      <th></th>\n",
       "      <th></th>\n",
       "      <th></th>\n",
       "      <th></th>\n",
       "      <th></th>\n",
       "      <th></th>\n",
       "      <th></th>\n",
       "      <th></th>\n",
       "      <th></th>\n",
       "      <th></th>\n",
       "      <th></th>\n",
       "      <th></th>\n",
       "      <th></th>\n",
       "      <th></th>\n",
       "      <th></th>\n",
       "      <th></th>\n",
       "      <th></th>\n",
       "    </tr>\n",
       "  </thead>\n",
       "  <tbody>\n",
       "    <tr>\n",
       "      <th>86e1089a3</th>\n",
       "      <td>Cat</td>\n",
       "      <td>Nibble</td>\n",
       "      <td>3</td>\n",
       "      <td>Tabby</td>\n",
       "      <td>NaN</td>\n",
       "      <td>Male</td>\n",
       "      <td>Black</td>\n",
       "      <td>White</td>\n",
       "      <td>NaN</td>\n",
       "      <td>Small</td>\n",
       "      <td>Short</td>\n",
       "      <td>No</td>\n",
       "      <td>No</td>\n",
       "      <td>No</td>\n",
       "      <td>Healthy</td>\n",
       "      <td>1</td>\n",
       "      <td>100</td>\n",
       "      <td>Selangor</td>\n",
       "      <td>8480853f516546f6cf33aa88cd76c379</td>\n",
       "      <td>0</td>\n",
       "      <td>Nibble is a 3+ month old ball of cuteness. He ...</td>\n",
       "      <td>1.0</td>\n",
       "      <td>2</td>\n",
       "      <td>0 to 5 months</td>\n",
       "      <td>8</td>\n",
       "    </tr>\n",
       "    <tr>\n",
       "      <th>6296e909a</th>\n",
       "      <td>Cat</td>\n",
       "      <td>No Name Yet</td>\n",
       "      <td>1</td>\n",
       "      <td>Domestic Medium Hair</td>\n",
       "      <td>NaN</td>\n",
       "      <td>Male</td>\n",
       "      <td>Black</td>\n",
       "      <td>Brown</td>\n",
       "      <td>NaN</td>\n",
       "      <td>Medium</td>\n",
       "      <td>Medium</td>\n",
       "      <td>Not Sure</td>\n",
       "      <td>Not Sure</td>\n",
       "      <td>Not Sure</td>\n",
       "      <td>Healthy</td>\n",
       "      <td>1</td>\n",
       "      <td>0</td>\n",
       "      <td>Kuala Lumpur</td>\n",
       "      <td>3082c7125d8fb66f7dd4bff4192c8b14</td>\n",
       "      <td>0</td>\n",
       "      <td>I just found it alone yesterday near my apartm...</td>\n",
       "      <td>2.0</td>\n",
       "      <td>0</td>\n",
       "      <td>0 to 5 months</td>\n",
       "      <td>1</td>\n",
       "    </tr>\n",
       "    <tr>\n",
       "      <th>3422e4906</th>\n",
       "      <td>Dog</td>\n",
       "      <td>Brisco</td>\n",
       "      <td>1</td>\n",
       "      <td>Mixed Breed</td>\n",
       "      <td>NaN</td>\n",
       "      <td>Male</td>\n",
       "      <td>Brown</td>\n",
       "      <td>White</td>\n",
       "      <td>NaN</td>\n",
       "      <td>Medium</td>\n",
       "      <td>Medium</td>\n",
       "      <td>Yes</td>\n",
       "      <td>Yes</td>\n",
       "      <td>No</td>\n",
       "      <td>Healthy</td>\n",
       "      <td>1</td>\n",
       "      <td>0</td>\n",
       "      <td>Selangor</td>\n",
       "      <td>fa90fa5b1ee11c86938398b60abc32cb</td>\n",
       "      <td>0</td>\n",
       "      <td>Their pregnant mother was dumped by her irresp...</td>\n",
       "      <td>7.0</td>\n",
       "      <td>3</td>\n",
       "      <td>0 to 5 months</td>\n",
       "      <td>459</td>\n",
       "    </tr>\n",
       "    <tr>\n",
       "      <th>5842f1ff5</th>\n",
       "      <td>Dog</td>\n",
       "      <td>Miko</td>\n",
       "      <td>4</td>\n",
       "      <td>Mixed Breed</td>\n",
       "      <td>NaN</td>\n",
       "      <td>Female</td>\n",
       "      <td>Black</td>\n",
       "      <td>Brown</td>\n",
       "      <td>NaN</td>\n",
       "      <td>Medium</td>\n",
       "      <td>Short</td>\n",
       "      <td>Yes</td>\n",
       "      <td>Yes</td>\n",
       "      <td>No</td>\n",
       "      <td>Healthy</td>\n",
       "      <td>1</td>\n",
       "      <td>150</td>\n",
       "      <td>Kuala Lumpur</td>\n",
       "      <td>9238e4f44c71a75282e62f7136c6b240</td>\n",
       "      <td>0</td>\n",
       "      <td>Good guard dog, very alert, active, obedience ...</td>\n",
       "      <td>8.0</td>\n",
       "      <td>2</td>\n",
       "      <td>0 to 5 months</td>\n",
       "      <td>50</td>\n",
       "    </tr>\n",
       "    <tr>\n",
       "      <th>850a43f90</th>\n",
       "      <td>Dog</td>\n",
       "      <td>Hunter</td>\n",
       "      <td>1</td>\n",
       "      <td>Mixed Breed</td>\n",
       "      <td>NaN</td>\n",
       "      <td>Male</td>\n",
       "      <td>Black</td>\n",
       "      <td>NaN</td>\n",
       "      <td>NaN</td>\n",
       "      <td>Medium</td>\n",
       "      <td>Short</td>\n",
       "      <td>No</td>\n",
       "      <td>No</td>\n",
       "      <td>No</td>\n",
       "      <td>Healthy</td>\n",
       "      <td>1</td>\n",
       "      <td>0</td>\n",
       "      <td>Selangor</td>\n",
       "      <td>95481e953f8aed9ec3d16fc4509537e8</td>\n",
       "      <td>0</td>\n",
       "      <td>This handsome yet cute boy is up for adoption....</td>\n",
       "      <td>3.0</td>\n",
       "      <td>2</td>\n",
       "      <td>0 to 5 months</td>\n",
       "      <td>134</td>\n",
       "    </tr>\n",
       "  </tbody>\n",
       "</table>\n",
       "</div>"
      ],
      "text/plain": [
       "          Type         Name  Age                Breed1 Breed2  Gender Color1  \\\n",
       "PetID                                                                          \n",
       "86e1089a3  Cat       Nibble    3                 Tabby    NaN    Male  Black   \n",
       "6296e909a  Cat  No Name Yet    1  Domestic Medium Hair    NaN    Male  Black   \n",
       "3422e4906  Dog       Brisco    1           Mixed Breed    NaN    Male  Brown   \n",
       "5842f1ff5  Dog         Miko    4           Mixed Breed    NaN  Female  Black   \n",
       "850a43f90  Dog       Hunter    1           Mixed Breed    NaN    Male  Black   \n",
       "\n",
       "          Color2 Color3 MaturitySize FurLength Vaccinated  Dewormed  \\\n",
       "PetID                                                                 \n",
       "86e1089a3  White    NaN        Small     Short         No        No   \n",
       "6296e909a  Brown    NaN       Medium    Medium   Not Sure  Not Sure   \n",
       "3422e4906  White    NaN       Medium    Medium        Yes       Yes   \n",
       "5842f1ff5  Brown    NaN       Medium     Short        Yes       Yes   \n",
       "850a43f90    NaN    NaN       Medium     Short         No        No   \n",
       "\n",
       "          Sterilized   Health  Quantity  Fee         State  \\\n",
       "PetID                                                        \n",
       "86e1089a3         No  Healthy         1  100      Selangor   \n",
       "6296e909a   Not Sure  Healthy         1    0  Kuala Lumpur   \n",
       "3422e4906         No  Healthy         1    0      Selangor   \n",
       "5842f1ff5         No  Healthy         1  150  Kuala Lumpur   \n",
       "850a43f90         No  Healthy         1    0      Selangor   \n",
       "\n",
       "                                  RescuerID  VideoAmt  \\\n",
       "PetID                                                   \n",
       "86e1089a3  8480853f516546f6cf33aa88cd76c379         0   \n",
       "6296e909a  3082c7125d8fb66f7dd4bff4192c8b14         0   \n",
       "3422e4906  fa90fa5b1ee11c86938398b60abc32cb         0   \n",
       "5842f1ff5  9238e4f44c71a75282e62f7136c6b240         0   \n",
       "850a43f90  95481e953f8aed9ec3d16fc4509537e8         0   \n",
       "\n",
       "                                                 Description  PhotoAmt  \\\n",
       "PetID                                                                    \n",
       "86e1089a3  Nibble is a 3+ month old ball of cuteness. He ...       1.0   \n",
       "6296e909a  I just found it alone yesterday near my apartm...       2.0   \n",
       "3422e4906  Their pregnant mother was dumped by her irresp...       7.0   \n",
       "5842f1ff5  Good guard dog, very alert, active, obedience ...       8.0   \n",
       "850a43f90  This handsome yet cute boy is up for adoption....       3.0   \n",
       "\n",
       "          AdoptionSpeed       Age_bins  RescuerNumber  \n",
       "PetID                                                  \n",
       "86e1089a3             2  0 to 5 months              8  \n",
       "6296e909a             0  0 to 5 months              1  \n",
       "3422e4906             3  0 to 5 months            459  \n",
       "5842f1ff5             2  0 to 5 months             50  \n",
       "850a43f90             2  0 to 5 months            134  "
      ]
     },
     "execution_count": 59,
     "metadata": {},
     "output_type": "execute_result"
    }
   ],
   "source": [
    "df.head()"
   ]
  },
  {
   "cell_type": "markdown",
   "metadata": {},
   "source": [
    "## Feature selection"
   ]
  },
  {
   "cell_type": "code",
   "execution_count": 60,
   "metadata": {},
   "outputs": [],
   "source": [
    "# drop columns: Age,Description\n",
    "df.drop(['Age_bins','Description','RescuerID','RescuerNumber'],axis=1, inplace=True)"
   ]
  },
  {
   "cell_type": "code",
   "execution_count": 61,
   "metadata": {},
   "outputs": [
    {
     "name": "stdout",
     "output_type": "stream",
     "text": [
      "<class 'pandas.core.frame.DataFrame'>\n",
      "Index: 14986 entries, 86e1089a3 to a83d95ead\n",
      "Data columns (total 21 columns):\n",
      "Type             14986 non-null object\n",
      "Name             13730 non-null object\n",
      "Breed1           14986 non-null object\n",
      "Breed2           4226 non-null object\n",
      "Gender           14986 non-null object\n",
      "Color1           14986 non-null object\n",
      "Color2           10516 non-null object\n",
      "Color3           4386 non-null object\n",
      "MaturitySize     14986 non-null object\n",
      "FurLength        14986 non-null object\n",
      "Vaccinated       14986 non-null object\n",
      "Dewormed         14986 non-null object\n",
      "Sterilized       14986 non-null object\n",
      "Health           14986 non-null object\n",
      "Quantity         14986 non-null int64\n",
      "Fee              14986 non-null int64\n",
      "State            14986 non-null object\n",
      "VideoAmt         14986 non-null int64\n",
      "PhotoAmt         14986 non-null float64\n",
      "AdoptionSpeed    14986 non-null category\n",
      "Age_bins         14986 non-null object\n",
      "dtypes: category(1), float64(1), int64(3), object(16)\n",
      "memory usage: 3.0+ MB\n"
     ]
    }
   ],
   "source": [
    "df.info()"
   ]
  },
  {
   "cell_type": "markdown",
   "metadata": {},
   "source": [
    "## Fill NaN"
   ]
  },
  {
   "cell_type": "code",
   "execution_count": 62,
   "metadata": {},
   "outputs": [],
   "source": [
    "df.Name.fillna('Missing',inplace=True)\n",
    "df.Breed2.fillna('Missing',inplace=True)\n",
    "df.Color2.fillna('Missing',inplace=True)\n",
    "df.Color3.fillna('Missing',inplace=True)"
   ]
  },
  {
   "cell_type": "code",
   "execution_count": 63,
   "metadata": {},
   "outputs": [
    {
     "data": {
      "text/html": [
       "<div>\n",
       "<style scoped>\n",
       "    .dataframe tbody tr th:only-of-type {\n",
       "        vertical-align: middle;\n",
       "    }\n",
       "\n",
       "    .dataframe tbody tr th {\n",
       "        vertical-align: top;\n",
       "    }\n",
       "\n",
       "    .dataframe thead th {\n",
       "        text-align: right;\n",
       "    }\n",
       "</style>\n",
       "<table border=\"1\" class=\"dataframe\">\n",
       "  <thead>\n",
       "    <tr style=\"text-align: right;\">\n",
       "      <th></th>\n",
       "      <th>Type</th>\n",
       "      <th>Name</th>\n",
       "      <th>Breed1</th>\n",
       "      <th>Breed2</th>\n",
       "      <th>Gender</th>\n",
       "      <th>Color1</th>\n",
       "      <th>Color2</th>\n",
       "      <th>Color3</th>\n",
       "      <th>MaturitySize</th>\n",
       "      <th>FurLength</th>\n",
       "      <th>Vaccinated</th>\n",
       "      <th>Dewormed</th>\n",
       "      <th>Sterilized</th>\n",
       "      <th>Health</th>\n",
       "      <th>Quantity</th>\n",
       "      <th>Fee</th>\n",
       "      <th>State</th>\n",
       "      <th>VideoAmt</th>\n",
       "      <th>PhotoAmt</th>\n",
       "      <th>AdoptionSpeed</th>\n",
       "      <th>Age_bins</th>\n",
       "    </tr>\n",
       "    <tr>\n",
       "      <th>PetID</th>\n",
       "      <th></th>\n",
       "      <th></th>\n",
       "      <th></th>\n",
       "      <th></th>\n",
       "      <th></th>\n",
       "      <th></th>\n",
       "      <th></th>\n",
       "      <th></th>\n",
       "      <th></th>\n",
       "      <th></th>\n",
       "      <th></th>\n",
       "      <th></th>\n",
       "      <th></th>\n",
       "      <th></th>\n",
       "      <th></th>\n",
       "      <th></th>\n",
       "      <th></th>\n",
       "      <th></th>\n",
       "      <th></th>\n",
       "      <th></th>\n",
       "      <th></th>\n",
       "    </tr>\n",
       "  </thead>\n",
       "  <tbody>\n",
       "    <tr>\n",
       "      <th>86e1089a3</th>\n",
       "      <td>Cat</td>\n",
       "      <td>Nibble</td>\n",
       "      <td>Tabby</td>\n",
       "      <td>Missing</td>\n",
       "      <td>Male</td>\n",
       "      <td>Black</td>\n",
       "      <td>White</td>\n",
       "      <td>Missing</td>\n",
       "      <td>Small</td>\n",
       "      <td>Short</td>\n",
       "      <td>No</td>\n",
       "      <td>No</td>\n",
       "      <td>No</td>\n",
       "      <td>Healthy</td>\n",
       "      <td>1</td>\n",
       "      <td>100</td>\n",
       "      <td>Selangor</td>\n",
       "      <td>0</td>\n",
       "      <td>1.0</td>\n",
       "      <td>2</td>\n",
       "      <td>0 to 5 months</td>\n",
       "    </tr>\n",
       "    <tr>\n",
       "      <th>6296e909a</th>\n",
       "      <td>Cat</td>\n",
       "      <td>No Name Yet</td>\n",
       "      <td>Domestic Medium Hair</td>\n",
       "      <td>Missing</td>\n",
       "      <td>Male</td>\n",
       "      <td>Black</td>\n",
       "      <td>Brown</td>\n",
       "      <td>Missing</td>\n",
       "      <td>Medium</td>\n",
       "      <td>Medium</td>\n",
       "      <td>Not Sure</td>\n",
       "      <td>Not Sure</td>\n",
       "      <td>Not Sure</td>\n",
       "      <td>Healthy</td>\n",
       "      <td>1</td>\n",
       "      <td>0</td>\n",
       "      <td>Kuala Lumpur</td>\n",
       "      <td>0</td>\n",
       "      <td>2.0</td>\n",
       "      <td>0</td>\n",
       "      <td>0 to 5 months</td>\n",
       "    </tr>\n",
       "    <tr>\n",
       "      <th>3422e4906</th>\n",
       "      <td>Dog</td>\n",
       "      <td>Brisco</td>\n",
       "      <td>Mixed Breed</td>\n",
       "      <td>Missing</td>\n",
       "      <td>Male</td>\n",
       "      <td>Brown</td>\n",
       "      <td>White</td>\n",
       "      <td>Missing</td>\n",
       "      <td>Medium</td>\n",
       "      <td>Medium</td>\n",
       "      <td>Yes</td>\n",
       "      <td>Yes</td>\n",
       "      <td>No</td>\n",
       "      <td>Healthy</td>\n",
       "      <td>1</td>\n",
       "      <td>0</td>\n",
       "      <td>Selangor</td>\n",
       "      <td>0</td>\n",
       "      <td>7.0</td>\n",
       "      <td>3</td>\n",
       "      <td>0 to 5 months</td>\n",
       "    </tr>\n",
       "    <tr>\n",
       "      <th>5842f1ff5</th>\n",
       "      <td>Dog</td>\n",
       "      <td>Miko</td>\n",
       "      <td>Mixed Breed</td>\n",
       "      <td>Missing</td>\n",
       "      <td>Female</td>\n",
       "      <td>Black</td>\n",
       "      <td>Brown</td>\n",
       "      <td>Missing</td>\n",
       "      <td>Medium</td>\n",
       "      <td>Short</td>\n",
       "      <td>Yes</td>\n",
       "      <td>Yes</td>\n",
       "      <td>No</td>\n",
       "      <td>Healthy</td>\n",
       "      <td>1</td>\n",
       "      <td>150</td>\n",
       "      <td>Kuala Lumpur</td>\n",
       "      <td>0</td>\n",
       "      <td>8.0</td>\n",
       "      <td>2</td>\n",
       "      <td>0 to 5 months</td>\n",
       "    </tr>\n",
       "    <tr>\n",
       "      <th>850a43f90</th>\n",
       "      <td>Dog</td>\n",
       "      <td>Hunter</td>\n",
       "      <td>Mixed Breed</td>\n",
       "      <td>Missing</td>\n",
       "      <td>Male</td>\n",
       "      <td>Black</td>\n",
       "      <td>Missing</td>\n",
       "      <td>Missing</td>\n",
       "      <td>Medium</td>\n",
       "      <td>Short</td>\n",
       "      <td>No</td>\n",
       "      <td>No</td>\n",
       "      <td>No</td>\n",
       "      <td>Healthy</td>\n",
       "      <td>1</td>\n",
       "      <td>0</td>\n",
       "      <td>Selangor</td>\n",
       "      <td>0</td>\n",
       "      <td>3.0</td>\n",
       "      <td>2</td>\n",
       "      <td>0 to 5 months</td>\n",
       "    </tr>\n",
       "  </tbody>\n",
       "</table>\n",
       "</div>"
      ],
      "text/plain": [
       "          Type         Name                Breed1   Breed2  Gender Color1  \\\n",
       "PetID                                                                       \n",
       "86e1089a3  Cat       Nibble                 Tabby  Missing    Male  Black   \n",
       "6296e909a  Cat  No Name Yet  Domestic Medium Hair  Missing    Male  Black   \n",
       "3422e4906  Dog       Brisco           Mixed Breed  Missing    Male  Brown   \n",
       "5842f1ff5  Dog         Miko           Mixed Breed  Missing  Female  Black   \n",
       "850a43f90  Dog       Hunter           Mixed Breed  Missing    Male  Black   \n",
       "\n",
       "            Color2   Color3 MaturitySize FurLength Vaccinated  Dewormed  \\\n",
       "PetID                                                                     \n",
       "86e1089a3    White  Missing        Small     Short         No        No   \n",
       "6296e909a    Brown  Missing       Medium    Medium   Not Sure  Not Sure   \n",
       "3422e4906    White  Missing       Medium    Medium        Yes       Yes   \n",
       "5842f1ff5    Brown  Missing       Medium     Short        Yes       Yes   \n",
       "850a43f90  Missing  Missing       Medium     Short         No        No   \n",
       "\n",
       "          Sterilized   Health  Quantity  Fee         State  VideoAmt  \\\n",
       "PetID                                                                  \n",
       "86e1089a3         No  Healthy         1  100      Selangor         0   \n",
       "6296e909a   Not Sure  Healthy         1    0  Kuala Lumpur         0   \n",
       "3422e4906         No  Healthy         1    0      Selangor         0   \n",
       "5842f1ff5         No  Healthy         1  150  Kuala Lumpur         0   \n",
       "850a43f90         No  Healthy         1    0      Selangor         0   \n",
       "\n",
       "           PhotoAmt AdoptionSpeed       Age_bins  \n",
       "PetID                                             \n",
       "86e1089a3       1.0             2  0 to 5 months  \n",
       "6296e909a       2.0             0  0 to 5 months  \n",
       "3422e4906       7.0             3  0 to 5 months  \n",
       "5842f1ff5       8.0             2  0 to 5 months  \n",
       "850a43f90       3.0             2  0 to 5 months  "
      ]
     },
     "execution_count": 63,
     "metadata": {},
     "output_type": "execute_result"
    }
   ],
   "source": [
    "df.head()"
   ]
  },
  {
   "cell_type": "markdown",
   "metadata": {},
   "source": [
    "## One-hot encoding "
   ]
  },
  {
   "cell_type": "code",
   "execution_count": 64,
   "metadata": {},
   "outputs": [],
   "source": [
    "from sklearn.preprocessing import OneHotEncoder, LabelEncoder, StandardScaler"
   ]
  },
  {
   "cell_type": "code",
   "execution_count": 65,
   "metadata": {},
   "outputs": [],
   "source": [
    "onehot_features = ['Type', 'Name', 'Breed1', 'Breed2', 'Gender', 'Color1', 'Color2','Color3','Vaccinated','Dewormed'\n",
    "                   ,'Sterilized','State','Age_bins']"
   ]
  },
  {
   "cell_type": "code",
   "execution_count": 66,
   "metadata": {},
   "outputs": [],
   "source": [
    "encoded_features = []\n",
    "for feature in onehot_features:\n",
    "    encoded_feat = OneHotEncoder().fit_transform(df[feature].values.reshape(-1, 1)).toarray()\n",
    "    n = df[feature].nunique()\n",
    "    cols = ['{}_{}'.format(feature, n) for n in range(1, n + 1)]\n",
    "    encoded_df = pd.DataFrame(encoded_feat, columns=cols)\n",
    "    encoded_df.index = df.index\n",
    "    encoded_features.append(encoded_df)"
   ]
  },
  {
   "cell_type": "code",
   "execution_count": 67,
   "metadata": {},
   "outputs": [],
   "source": [
    "df = pd.concat([df, *encoded_features[:12]], axis=1)"
   ]
  },
  {
   "cell_type": "code",
   "execution_count": 68,
   "metadata": {},
   "outputs": [],
   "source": [
    "df.drop(onehot_features,axis=1,inplace=True)"
   ]
  },
  {
   "cell_type": "markdown",
   "metadata": {},
   "source": [
    "## Label Encoding"
   ]
  },
  {
   "cell_type": "code",
   "execution_count": 69,
   "metadata": {},
   "outputs": [],
   "source": [
    "label_features = ['MaturitySize','FurLength','Health']"
   ]
  },
  {
   "cell_type": "code",
   "execution_count": 70,
   "metadata": {},
   "outputs": [],
   "source": [
    "for feature in label_features:        \n",
    "    df[feature] = LabelEncoder().fit_transform(df[feature])"
   ]
  },
  {
   "cell_type": "code",
   "execution_count": 72,
   "metadata": {},
   "outputs": [
    {
     "data": {
      "text/html": [
       "<div>\n",
       "<style scoped>\n",
       "    .dataframe tbody tr th:only-of-type {\n",
       "        vertical-align: middle;\n",
       "    }\n",
       "\n",
       "    .dataframe tbody tr th {\n",
       "        vertical-align: top;\n",
       "    }\n",
       "\n",
       "    .dataframe thead th {\n",
       "        text-align: right;\n",
       "    }\n",
       "</style>\n",
       "<table border=\"1\" class=\"dataframe\">\n",
       "  <thead>\n",
       "    <tr style=\"text-align: right;\">\n",
       "      <th></th>\n",
       "      <th>MaturitySize</th>\n",
       "      <th>FurLength</th>\n",
       "      <th>Health</th>\n",
       "      <th>Quantity</th>\n",
       "      <th>Fee</th>\n",
       "      <th>VideoAmt</th>\n",
       "      <th>PhotoAmt</th>\n",
       "      <th>AdoptionSpeed</th>\n",
       "      <th>Type_1</th>\n",
       "      <th>Type_2</th>\n",
       "      <th>Name_1</th>\n",
       "      <th>Name_2</th>\n",
       "      <th>Name_3</th>\n",
       "      <th>Name_4</th>\n",
       "      <th>Name_5</th>\n",
       "      <th>Name_6</th>\n",
       "      <th>Name_7</th>\n",
       "      <th>Name_8</th>\n",
       "      <th>Name_9</th>\n",
       "      <th>Name_10</th>\n",
       "      <th>Name_11</th>\n",
       "      <th>Name_12</th>\n",
       "      <th>Name_13</th>\n",
       "      <th>Name_14</th>\n",
       "      <th>Name_15</th>\n",
       "      <th>...</th>\n",
       "      <th>Color3_5</th>\n",
       "      <th>Color3_6</th>\n",
       "      <th>Vaccinated_1</th>\n",
       "      <th>Vaccinated_2</th>\n",
       "      <th>Vaccinated_3</th>\n",
       "      <th>Dewormed_1</th>\n",
       "      <th>Dewormed_2</th>\n",
       "      <th>Dewormed_3</th>\n",
       "      <th>Sterilized_1</th>\n",
       "      <th>Sterilized_2</th>\n",
       "      <th>Sterilized_3</th>\n",
       "      <th>State_1</th>\n",
       "      <th>State_2</th>\n",
       "      <th>State_3</th>\n",
       "      <th>State_4</th>\n",
       "      <th>State_5</th>\n",
       "      <th>State_6</th>\n",
       "      <th>State_7</th>\n",
       "      <th>State_8</th>\n",
       "      <th>State_9</th>\n",
       "      <th>State_10</th>\n",
       "      <th>State_11</th>\n",
       "      <th>State_12</th>\n",
       "      <th>State_13</th>\n",
       "      <th>State_14</th>\n",
       "    </tr>\n",
       "    <tr>\n",
       "      <th>PetID</th>\n",
       "      <th></th>\n",
       "      <th></th>\n",
       "      <th></th>\n",
       "      <th></th>\n",
       "      <th></th>\n",
       "      <th></th>\n",
       "      <th></th>\n",
       "      <th></th>\n",
       "      <th></th>\n",
       "      <th></th>\n",
       "      <th></th>\n",
       "      <th></th>\n",
       "      <th></th>\n",
       "      <th></th>\n",
       "      <th></th>\n",
       "      <th></th>\n",
       "      <th></th>\n",
       "      <th></th>\n",
       "      <th></th>\n",
       "      <th></th>\n",
       "      <th></th>\n",
       "      <th></th>\n",
       "      <th></th>\n",
       "      <th></th>\n",
       "      <th></th>\n",
       "      <th></th>\n",
       "      <th></th>\n",
       "      <th></th>\n",
       "      <th></th>\n",
       "      <th></th>\n",
       "      <th></th>\n",
       "      <th></th>\n",
       "      <th></th>\n",
       "      <th></th>\n",
       "      <th></th>\n",
       "      <th></th>\n",
       "      <th></th>\n",
       "      <th></th>\n",
       "      <th></th>\n",
       "      <th></th>\n",
       "      <th></th>\n",
       "      <th></th>\n",
       "      <th></th>\n",
       "      <th></th>\n",
       "      <th></th>\n",
       "      <th></th>\n",
       "      <th></th>\n",
       "      <th></th>\n",
       "      <th></th>\n",
       "      <th></th>\n",
       "      <th></th>\n",
       "    </tr>\n",
       "  </thead>\n",
       "  <tbody>\n",
       "    <tr>\n",
       "      <th>86e1089a3</th>\n",
       "      <td>3</td>\n",
       "      <td>2</td>\n",
       "      <td>0</td>\n",
       "      <td>1</td>\n",
       "      <td>100</td>\n",
       "      <td>0</td>\n",
       "      <td>1.0</td>\n",
       "      <td>2</td>\n",
       "      <td>1.0</td>\n",
       "      <td>0.0</td>\n",
       "      <td>0.0</td>\n",
       "      <td>0.0</td>\n",
       "      <td>0.0</td>\n",
       "      <td>0.0</td>\n",
       "      <td>0.0</td>\n",
       "      <td>0.0</td>\n",
       "      <td>0.0</td>\n",
       "      <td>0.0</td>\n",
       "      <td>0.0</td>\n",
       "      <td>0.0</td>\n",
       "      <td>0.0</td>\n",
       "      <td>0.0</td>\n",
       "      <td>0.0</td>\n",
       "      <td>0.0</td>\n",
       "      <td>0.0</td>\n",
       "      <td>...</td>\n",
       "      <td>0.0</td>\n",
       "      <td>0.0</td>\n",
       "      <td>1.0</td>\n",
       "      <td>0.0</td>\n",
       "      <td>0.0</td>\n",
       "      <td>1.0</td>\n",
       "      <td>0.0</td>\n",
       "      <td>0.0</td>\n",
       "      <td>1.0</td>\n",
       "      <td>0.0</td>\n",
       "      <td>0.0</td>\n",
       "      <td>0.0</td>\n",
       "      <td>0.0</td>\n",
       "      <td>0.0</td>\n",
       "      <td>0.0</td>\n",
       "      <td>0.0</td>\n",
       "      <td>0.0</td>\n",
       "      <td>0.0</td>\n",
       "      <td>0.0</td>\n",
       "      <td>0.0</td>\n",
       "      <td>0.0</td>\n",
       "      <td>0.0</td>\n",
       "      <td>0.0</td>\n",
       "      <td>1.0</td>\n",
       "      <td>0.0</td>\n",
       "    </tr>\n",
       "    <tr>\n",
       "      <th>6296e909a</th>\n",
       "      <td>2</td>\n",
       "      <td>1</td>\n",
       "      <td>0</td>\n",
       "      <td>1</td>\n",
       "      <td>0</td>\n",
       "      <td>0</td>\n",
       "      <td>2.0</td>\n",
       "      <td>0</td>\n",
       "      <td>1.0</td>\n",
       "      <td>0.0</td>\n",
       "      <td>0.0</td>\n",
       "      <td>0.0</td>\n",
       "      <td>0.0</td>\n",
       "      <td>0.0</td>\n",
       "      <td>0.0</td>\n",
       "      <td>0.0</td>\n",
       "      <td>0.0</td>\n",
       "      <td>0.0</td>\n",
       "      <td>0.0</td>\n",
       "      <td>0.0</td>\n",
       "      <td>0.0</td>\n",
       "      <td>0.0</td>\n",
       "      <td>0.0</td>\n",
       "      <td>0.0</td>\n",
       "      <td>0.0</td>\n",
       "      <td>...</td>\n",
       "      <td>0.0</td>\n",
       "      <td>0.0</td>\n",
       "      <td>0.0</td>\n",
       "      <td>1.0</td>\n",
       "      <td>0.0</td>\n",
       "      <td>0.0</td>\n",
       "      <td>1.0</td>\n",
       "      <td>0.0</td>\n",
       "      <td>0.0</td>\n",
       "      <td>1.0</td>\n",
       "      <td>0.0</td>\n",
       "      <td>0.0</td>\n",
       "      <td>0.0</td>\n",
       "      <td>0.0</td>\n",
       "      <td>1.0</td>\n",
       "      <td>0.0</td>\n",
       "      <td>0.0</td>\n",
       "      <td>0.0</td>\n",
       "      <td>0.0</td>\n",
       "      <td>0.0</td>\n",
       "      <td>0.0</td>\n",
       "      <td>0.0</td>\n",
       "      <td>0.0</td>\n",
       "      <td>0.0</td>\n",
       "      <td>0.0</td>\n",
       "    </tr>\n",
       "    <tr>\n",
       "      <th>3422e4906</th>\n",
       "      <td>2</td>\n",
       "      <td>1</td>\n",
       "      <td>0</td>\n",
       "      <td>1</td>\n",
       "      <td>0</td>\n",
       "      <td>0</td>\n",
       "      <td>7.0</td>\n",
       "      <td>3</td>\n",
       "      <td>0.0</td>\n",
       "      <td>1.0</td>\n",
       "      <td>0.0</td>\n",
       "      <td>0.0</td>\n",
       "      <td>0.0</td>\n",
       "      <td>0.0</td>\n",
       "      <td>0.0</td>\n",
       "      <td>0.0</td>\n",
       "      <td>0.0</td>\n",
       "      <td>0.0</td>\n",
       "      <td>0.0</td>\n",
       "      <td>0.0</td>\n",
       "      <td>0.0</td>\n",
       "      <td>0.0</td>\n",
       "      <td>0.0</td>\n",
       "      <td>0.0</td>\n",
       "      <td>0.0</td>\n",
       "      <td>...</td>\n",
       "      <td>0.0</td>\n",
       "      <td>0.0</td>\n",
       "      <td>0.0</td>\n",
       "      <td>0.0</td>\n",
       "      <td>1.0</td>\n",
       "      <td>0.0</td>\n",
       "      <td>0.0</td>\n",
       "      <td>1.0</td>\n",
       "      <td>1.0</td>\n",
       "      <td>0.0</td>\n",
       "      <td>0.0</td>\n",
       "      <td>0.0</td>\n",
       "      <td>0.0</td>\n",
       "      <td>0.0</td>\n",
       "      <td>0.0</td>\n",
       "      <td>0.0</td>\n",
       "      <td>0.0</td>\n",
       "      <td>0.0</td>\n",
       "      <td>0.0</td>\n",
       "      <td>0.0</td>\n",
       "      <td>0.0</td>\n",
       "      <td>0.0</td>\n",
       "      <td>0.0</td>\n",
       "      <td>1.0</td>\n",
       "      <td>0.0</td>\n",
       "    </tr>\n",
       "    <tr>\n",
       "      <th>5842f1ff5</th>\n",
       "      <td>2</td>\n",
       "      <td>2</td>\n",
       "      <td>0</td>\n",
       "      <td>1</td>\n",
       "      <td>150</td>\n",
       "      <td>0</td>\n",
       "      <td>8.0</td>\n",
       "      <td>2</td>\n",
       "      <td>0.0</td>\n",
       "      <td>1.0</td>\n",
       "      <td>0.0</td>\n",
       "      <td>0.0</td>\n",
       "      <td>0.0</td>\n",
       "      <td>0.0</td>\n",
       "      <td>0.0</td>\n",
       "      <td>0.0</td>\n",
       "      <td>0.0</td>\n",
       "      <td>0.0</td>\n",
       "      <td>0.0</td>\n",
       "      <td>0.0</td>\n",
       "      <td>0.0</td>\n",
       "      <td>0.0</td>\n",
       "      <td>0.0</td>\n",
       "      <td>0.0</td>\n",
       "      <td>0.0</td>\n",
       "      <td>...</td>\n",
       "      <td>0.0</td>\n",
       "      <td>0.0</td>\n",
       "      <td>0.0</td>\n",
       "      <td>0.0</td>\n",
       "      <td>1.0</td>\n",
       "      <td>0.0</td>\n",
       "      <td>0.0</td>\n",
       "      <td>1.0</td>\n",
       "      <td>1.0</td>\n",
       "      <td>0.0</td>\n",
       "      <td>0.0</td>\n",
       "      <td>0.0</td>\n",
       "      <td>0.0</td>\n",
       "      <td>0.0</td>\n",
       "      <td>1.0</td>\n",
       "      <td>0.0</td>\n",
       "      <td>0.0</td>\n",
       "      <td>0.0</td>\n",
       "      <td>0.0</td>\n",
       "      <td>0.0</td>\n",
       "      <td>0.0</td>\n",
       "      <td>0.0</td>\n",
       "      <td>0.0</td>\n",
       "      <td>0.0</td>\n",
       "      <td>0.0</td>\n",
       "    </tr>\n",
       "    <tr>\n",
       "      <th>850a43f90</th>\n",
       "      <td>2</td>\n",
       "      <td>2</td>\n",
       "      <td>0</td>\n",
       "      <td>1</td>\n",
       "      <td>0</td>\n",
       "      <td>0</td>\n",
       "      <td>3.0</td>\n",
       "      <td>2</td>\n",
       "      <td>0.0</td>\n",
       "      <td>1.0</td>\n",
       "      <td>0.0</td>\n",
       "      <td>0.0</td>\n",
       "      <td>0.0</td>\n",
       "      <td>0.0</td>\n",
       "      <td>0.0</td>\n",
       "      <td>0.0</td>\n",
       "      <td>0.0</td>\n",
       "      <td>0.0</td>\n",
       "      <td>0.0</td>\n",
       "      <td>0.0</td>\n",
       "      <td>0.0</td>\n",
       "      <td>0.0</td>\n",
       "      <td>0.0</td>\n",
       "      <td>0.0</td>\n",
       "      <td>0.0</td>\n",
       "      <td>...</td>\n",
       "      <td>0.0</td>\n",
       "      <td>0.0</td>\n",
       "      <td>1.0</td>\n",
       "      <td>0.0</td>\n",
       "      <td>0.0</td>\n",
       "      <td>1.0</td>\n",
       "      <td>0.0</td>\n",
       "      <td>0.0</td>\n",
       "      <td>1.0</td>\n",
       "      <td>0.0</td>\n",
       "      <td>0.0</td>\n",
       "      <td>0.0</td>\n",
       "      <td>0.0</td>\n",
       "      <td>0.0</td>\n",
       "      <td>0.0</td>\n",
       "      <td>0.0</td>\n",
       "      <td>0.0</td>\n",
       "      <td>0.0</td>\n",
       "      <td>0.0</td>\n",
       "      <td>0.0</td>\n",
       "      <td>0.0</td>\n",
       "      <td>0.0</td>\n",
       "      <td>0.0</td>\n",
       "      <td>1.0</td>\n",
       "      <td>0.0</td>\n",
       "    </tr>\n",
       "  </tbody>\n",
       "</table>\n",
       "<p>5 rows × 9421 columns</p>\n",
       "</div>"
      ],
      "text/plain": [
       "           MaturitySize  FurLength  Health  Quantity  Fee  VideoAmt  PhotoAmt  \\\n",
       "PetID                                                                           \n",
       "86e1089a3             3          2       0         1  100         0       1.0   \n",
       "6296e909a             2          1       0         1    0         0       2.0   \n",
       "3422e4906             2          1       0         1    0         0       7.0   \n",
       "5842f1ff5             2          2       0         1  150         0       8.0   \n",
       "850a43f90             2          2       0         1    0         0       3.0   \n",
       "\n",
       "          AdoptionSpeed  Type_1  Type_2  Name_1  Name_2  Name_3  Name_4  \\\n",
       "PetID                                                                     \n",
       "86e1089a3             2     1.0     0.0     0.0     0.0     0.0     0.0   \n",
       "6296e909a             0     1.0     0.0     0.0     0.0     0.0     0.0   \n",
       "3422e4906             3     0.0     1.0     0.0     0.0     0.0     0.0   \n",
       "5842f1ff5             2     0.0     1.0     0.0     0.0     0.0     0.0   \n",
       "850a43f90             2     0.0     1.0     0.0     0.0     0.0     0.0   \n",
       "\n",
       "           Name_5  Name_6  Name_7  Name_8  Name_9  Name_10  Name_11  Name_12  \\\n",
       "PetID                                                                          \n",
       "86e1089a3     0.0     0.0     0.0     0.0     0.0      0.0      0.0      0.0   \n",
       "6296e909a     0.0     0.0     0.0     0.0     0.0      0.0      0.0      0.0   \n",
       "3422e4906     0.0     0.0     0.0     0.0     0.0      0.0      0.0      0.0   \n",
       "5842f1ff5     0.0     0.0     0.0     0.0     0.0      0.0      0.0      0.0   \n",
       "850a43f90     0.0     0.0     0.0     0.0     0.0      0.0      0.0      0.0   \n",
       "\n",
       "           Name_13  Name_14  Name_15  ...  Color3_5  Color3_6  Vaccinated_1  \\\n",
       "PetID                                 ...                                     \n",
       "86e1089a3      0.0      0.0      0.0  ...       0.0       0.0           1.0   \n",
       "6296e909a      0.0      0.0      0.0  ...       0.0       0.0           0.0   \n",
       "3422e4906      0.0      0.0      0.0  ...       0.0       0.0           0.0   \n",
       "5842f1ff5      0.0      0.0      0.0  ...       0.0       0.0           0.0   \n",
       "850a43f90      0.0      0.0      0.0  ...       0.0       0.0           1.0   \n",
       "\n",
       "           Vaccinated_2  Vaccinated_3  Dewormed_1  Dewormed_2  Dewormed_3  \\\n",
       "PetID                                                                       \n",
       "86e1089a3           0.0           0.0         1.0         0.0         0.0   \n",
       "6296e909a           1.0           0.0         0.0         1.0         0.0   \n",
       "3422e4906           0.0           1.0         0.0         0.0         1.0   \n",
       "5842f1ff5           0.0           1.0         0.0         0.0         1.0   \n",
       "850a43f90           0.0           0.0         1.0         0.0         0.0   \n",
       "\n",
       "           Sterilized_1  Sterilized_2  Sterilized_3  State_1  State_2  \\\n",
       "PetID                                                                   \n",
       "86e1089a3           1.0           0.0           0.0      0.0      0.0   \n",
       "6296e909a           0.0           1.0           0.0      0.0      0.0   \n",
       "3422e4906           1.0           0.0           0.0      0.0      0.0   \n",
       "5842f1ff5           1.0           0.0           0.0      0.0      0.0   \n",
       "850a43f90           1.0           0.0           0.0      0.0      0.0   \n",
       "\n",
       "           State_3  State_4  State_5  State_6  State_7  State_8  State_9  \\\n",
       "PetID                                                                      \n",
       "86e1089a3      0.0      0.0      0.0      0.0      0.0      0.0      0.0   \n",
       "6296e909a      0.0      1.0      0.0      0.0      0.0      0.0      0.0   \n",
       "3422e4906      0.0      0.0      0.0      0.0      0.0      0.0      0.0   \n",
       "5842f1ff5      0.0      1.0      0.0      0.0      0.0      0.0      0.0   \n",
       "850a43f90      0.0      0.0      0.0      0.0      0.0      0.0      0.0   \n",
       "\n",
       "           State_10  State_11  State_12  State_13  State_14  \n",
       "PetID                                                        \n",
       "86e1089a3       0.0       0.0       0.0       1.0       0.0  \n",
       "6296e909a       0.0       0.0       0.0       0.0       0.0  \n",
       "3422e4906       0.0       0.0       0.0       1.0       0.0  \n",
       "5842f1ff5       0.0       0.0       0.0       0.0       0.0  \n",
       "850a43f90       0.0       0.0       0.0       1.0       0.0  \n",
       "\n",
       "[5 rows x 9421 columns]"
      ]
     },
     "execution_count": 72,
     "metadata": {},
     "output_type": "execute_result"
    }
   ],
   "source": [
    "df.head()"
   ]
  },
  {
   "cell_type": "markdown",
   "metadata": {},
   "source": [
    "# 3. Modeling"
   ]
  },
  {
   "cell_type": "code",
   "execution_count": 73,
   "metadata": {},
   "outputs": [],
   "source": [
    "X = df.drop('AdoptionSpeed',axis =1)"
   ]
  },
  {
   "cell_type": "code",
   "execution_count": 74,
   "metadata": {},
   "outputs": [],
   "source": [
    "y = df.AdoptionSpeed"
   ]
  },
  {
   "cell_type": "code",
   "execution_count": 83,
   "metadata": {},
   "outputs": [],
   "source": [
    "from sklearn.model_selection import train_test_split\n",
    "(Xtrain, Xtest, yTrain, yTest) = train_test_split(\n",
    "X, y, random_state=42)"
   ]
  },
  {
   "cell_type": "code",
   "execution_count": 84,
   "metadata": {},
   "outputs": [],
   "source": [
    "from sklearn.ensemble import RandomForestClassifier\n",
    "model = RandomForestClassifier(criterion='gini', \n",
    "                               n_estimators=1100,\n",
    "                               max_depth=5,\n",
    "                               min_samples_split=4,\n",
    "                               min_samples_leaf=5,\n",
    "                               max_features='auto',\n",
    "                               oob_score=True,\n",
    "                               random_state=42,\n",
    "                               n_jobs=-1,\n",
    "                               verbose=1)"
   ]
  },
  {
   "cell_type": "code",
   "execution_count": 85,
   "metadata": {},
   "outputs": [
    {
     "name": "stderr",
     "output_type": "stream",
     "text": [
      "[Parallel(n_jobs=-1)]: Using backend ThreadingBackend with 4 concurrent workers.\n",
      "[Parallel(n_jobs=-1)]: Done  42 tasks      | elapsed:    0.8s\n",
      "[Parallel(n_jobs=-1)]: Done 192 tasks      | elapsed:    1.8s\n",
      "[Parallel(n_jobs=-1)]: Done 442 tasks      | elapsed:    3.5s\n",
      "[Parallel(n_jobs=-1)]: Done 792 tasks      | elapsed:    5.9s\n",
      "[Parallel(n_jobs=-1)]: Done 1100 out of 1100 | elapsed:    7.7s finished\n"
     ]
    },
    {
     "data": {
      "text/plain": [
       "RandomForestClassifier(bootstrap=True, class_weight=None, criterion='gini',\n",
       "                       max_depth=5, max_features='auto', max_leaf_nodes=None,\n",
       "                       min_impurity_decrease=0.0, min_impurity_split=None,\n",
       "                       min_samples_leaf=5, min_samples_split=4,\n",
       "                       min_weight_fraction_leaf=0.0, n_estimators=1100,\n",
       "                       n_jobs=-1, oob_score=True, random_state=42, verbose=1,\n",
       "                       warm_start=False)"
      ]
     },
     "execution_count": 85,
     "metadata": {},
     "output_type": "execute_result"
    }
   ],
   "source": [
    "model.fit(Xtrain,yTrain)"
   ]
  },
  {
   "cell_type": "code",
   "execution_count": 86,
   "metadata": {},
   "outputs": [
    {
     "name": "stderr",
     "output_type": "stream",
     "text": [
      "[Parallel(n_jobs=4)]: Using backend ThreadingBackend with 4 concurrent workers.\n",
      "[Parallel(n_jobs=4)]: Done  42 tasks      | elapsed:    0.0s\n",
      "[Parallel(n_jobs=4)]: Done 192 tasks      | elapsed:    0.1s\n",
      "[Parallel(n_jobs=4)]: Done 442 tasks      | elapsed:    0.2s\n",
      "[Parallel(n_jobs=4)]: Done 792 tasks      | elapsed:    0.3s\n",
      "[Parallel(n_jobs=4)]: Done 1100 out of 1100 | elapsed:    0.5s finished\n"
     ]
    }
   ],
   "source": [
    "yPredict = model.predict(Xtest)"
   ]
  },
  {
   "cell_type": "markdown",
   "metadata": {},
   "source": [
    "# 4. Evaluation"
   ]
  },
  {
   "cell_type": "markdown",
   "metadata": {},
   "source": [
    "## 4.1 Feature Importance "
   ]
  },
  {
   "cell_type": "code",
   "execution_count": 134,
   "metadata": {},
   "outputs": [
    {
     "data": {
      "image/png": "[encoded data removed]",
      "text/plain": [
       "<Figure size 432x288 with 1 Axes>"
      ]
     },
     "metadata": {
      "needs_background": "light"
     },
     "output_type": "display_data"
    }
   ],
   "source": [
    "feat_importances = pd.Series(model.feature_importances_, index=Xtrain.columns)\n",
    "feat_importances.nlargest(10).plot(kind='barh')\n",
    "plt.show()"
   ]
  },
  {
   "cell_type": "markdown",
   "metadata": {},
   "source": [
    "## 4.2 Confusion matrix"
   ]
  },
  {
   "cell_type": "code",
   "execution_count": 106,
   "metadata": {},
   "outputs": [],
   "source": [
    "from sklearn.metrics import confusion_matrix"
   ]
  },
  {
   "cell_type": "code",
   "execution_count": 107,
   "metadata": {},
   "outputs": [],
   "source": [
    "confusion = confusion_matrix(yTest,yPredict)"
   ]
  },
  {
   "cell_type": "code",
   "execution_count": 113,
   "metadata": {},
   "outputs": [],
   "source": [
    "df_cm = pd.DataFrame(confusion)"
   ]
  },
  {
   "cell_type": "code",
   "execution_count": 114,
   "metadata": {},
   "outputs": [
    {
     "data": {
      "text/html": [
       "<div>\n",
       "<style scoped>\n",
       "    .dataframe tbody tr th:only-of-type {\n",
       "        vertical-align: middle;\n",
       "    }\n",
       "\n",
       "    .dataframe tbody tr th {\n",
       "        vertical-align: top;\n",
       "    }\n",
       "\n",
       "    .dataframe thead th {\n",
       "        text-align: right;\n",
       "    }\n",
       "</style>\n",
       "<table border=\"1\" class=\"dataframe\">\n",
       "  <thead>\n",
       "    <tr style=\"text-align: right;\">\n",
       "      <th></th>\n",
       "      <th>0</th>\n",
       "      <th>1</th>\n",
       "      <th>2</th>\n",
       "      <th>3</th>\n",
       "      <th>4</th>\n",
       "    </tr>\n",
       "  </thead>\n",
       "  <tbody>\n",
       "    <tr>\n",
       "      <th>0</th>\n",
       "      <td>0</td>\n",
       "      <td>0</td>\n",
       "      <td>43</td>\n",
       "      <td>0</td>\n",
       "      <td>74</td>\n",
       "    </tr>\n",
       "    <tr>\n",
       "      <th>1</th>\n",
       "      <td>0</td>\n",
       "      <td>0</td>\n",
       "      <td>340</td>\n",
       "      <td>0</td>\n",
       "      <td>468</td>\n",
       "    </tr>\n",
       "    <tr>\n",
       "      <th>2</th>\n",
       "      <td>0</td>\n",
       "      <td>0</td>\n",
       "      <td>396</td>\n",
       "      <td>0</td>\n",
       "      <td>587</td>\n",
       "    </tr>\n",
       "    <tr>\n",
       "      <th>3</th>\n",
       "      <td>0</td>\n",
       "      <td>0</td>\n",
       "      <td>285</td>\n",
       "      <td>0</td>\n",
       "      <td>534</td>\n",
       "    </tr>\n",
       "    <tr>\n",
       "      <th>4</th>\n",
       "      <td>0</td>\n",
       "      <td>0</td>\n",
       "      <td>197</td>\n",
       "      <td>0</td>\n",
       "      <td>823</td>\n",
       "    </tr>\n",
       "  </tbody>\n",
       "</table>\n",
       "</div>"
      ],
      "text/plain": [
       "   0  1    2  3    4\n",
       "0  0  0   43  0   74\n",
       "1  0  0  340  0  468\n",
       "2  0  0  396  0  587\n",
       "3  0  0  285  0  534\n",
       "4  0  0  197  0  823"
      ]
     },
     "execution_count": 114,
     "metadata": {},
     "output_type": "execute_result"
    }
   ],
   "source": [
    "df_cm"
   ]
  },
  {
   "cell_type": "code",
   "execution_count": 112,
   "metadata": {},
   "outputs": [],
   "source": [
    "import seaborn as sns"
   ]
  },
  {
   "cell_type": "code",
   "execution_count": 127,
   "metadata": {},
   "outputs": [
    {
     "data": {
      "image/png": "[encoded data removed]",
      "text/plain": [
       "<Figure size 720x576 with 2 Axes>"
      ]
     },
     "metadata": {
      "needs_background": "light"
     },
     "output_type": "display_data"
    }
   ],
   "source": [
    "plt.figure(figsize=(10,8))\n",
    "sns.heatmap(df_cm,annot=True,vmin=0.5, vmax=0.7)\n",
    "plt.title('Accuracy: {0:.3f}\\n'.format(accuracy_score(yTest,yPredict)))\n",
    "plt.xlabel('Predict label')\n",
    "plt.ylabel('True label')\n",
    "plt.show()"
   ]
  },
  {
   "cell_type": "markdown",
   "metadata": {},
   "source": [
    "## 4.3. Classification reports"
   ]
  },
  {
   "cell_type": "code",
   "execution_count": 129,
   "metadata": {},
   "outputs": [],
   "source": [
    "from sklearn.metrics import classification_report"
   ]
  },
  {
   "cell_type": "code",
   "execution_count": 130,
   "metadata": {},
   "outputs": [
    {
     "name": "stdout",
     "output_type": "stream",
     "text": [
      "              precision    recall  f1-score   support\n",
      "\n",
      "           0       0.00      0.00      0.00       117\n",
      "           1       0.00      0.00      0.00       808\n",
      "           2       0.31      0.40      0.35       983\n",
      "           3       0.00      0.00      0.00       819\n",
      "           4       0.33      0.81      0.47      1020\n",
      "\n",
      "    accuracy                           0.33      3747\n",
      "   macro avg       0.13      0.24      0.16      3747\n",
      "weighted avg       0.17      0.33      0.22      3747\n",
      "\n"
     ]
    },
    {
     "name": "stderr",
     "output_type": "stream",
     "text": [
      "/Users/apple/Development/env/lib/python3.7/site-packages/sklearn/metrics/classification.py:1437: UndefinedMetricWarning: Precision and F-score are ill-defined and being set to 0.0 in labels with no predicted samples.\n",
      "  'precision', 'predicted', average, warn_for)\n"
     ]
    }
   ],
   "source": [
    "print(classification_report(yTest,yPredict))"
   ]
  },
  {
   "cell_type": "code",
   "execution_count": null,
   "metadata": {},
   "outputs": [],
   "source": []
  }
 ],
 "metadata": {
  "kernelspec": {
   "display_name": "Python 3",
   "language": "python",
   "name": "python3"
  },
  "language_info": {
   "codemirror_mode": {
    "name": "ipython",
    "version": 3
   },
   "file_extension": ".py",
   "mimetype": "text/x-python",
   "name": "python",
   "nbconvert_exporter": "python",
   "pygments_lexer": "ipython3",
   "version": "3.7.4"
  }
 },
 "nbformat": 4,
 "nbformat_minor": 1
}
